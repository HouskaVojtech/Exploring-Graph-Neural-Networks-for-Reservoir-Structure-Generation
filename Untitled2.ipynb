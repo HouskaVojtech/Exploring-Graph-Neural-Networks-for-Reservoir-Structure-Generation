{
 "cells": [
  {
   "cell_type": "code",
   "execution_count": 3,
   "id": "65e448c5",
   "metadata": {},
   "outputs": [],
   "source": [
    "import torch\n",
    "import pandas as pd\n",
    "import random\n",
    "import torch.nn.functional as F\n",
    "import numpy as np\n",
    "from torch_geometric.data import Data\n",
    "\n",
    "FIRST_YEAR = 1995\n",
    "LAST_YEAR = 2019\n",
    "FEATURES = ['pop', 'cpi', 'emp']\n",
    "NUM_TRAIN = 15 \n",
    "NUM_VAL = 3\n",
    "NUM_TEST = 6\n",
    "NUM_EDGE_FEATURES = 10\n",
    "EDGE_FEATURES = ['f'+str(i) for i in range(NUM_EDGE_FEATURES)]\n",
    "\n",
    "# The data is found in the project's Github.\n",
    "DOWNLOAD_PREFIX = 'https://raw.githubusercontent.com/pboennig/gnns_for_gdp/master/'\n",
    "\n",
    "def create_data(year):\n",
    "    '''\n",
    "    For given year, pull in node features, edge features, and edge index and\n",
    "    save in a PyG Data object.\n",
    "    '''\n",
    "    \n",
    "    assert(year in range(FIRST_YEAR, LAST_YEAR + 1))\n",
    "    edges = pd.read_csv(f'{DOWNLOAD_PREFIX}/output/X_EDGE_{year}.csv')\n",
    "\n",
    "    # generate map from iso_code to ids of form [0, ..., num_unique_iso_codes - 1]\n",
    "    iso_codes = set(edges['i'])\n",
    "    iso_codes = iso_codes.union(set(edges['j']))\n",
    "    iso_code_to_id = {code : i for (i, code) in enumerate(iso_codes)}\n",
    "\n",
    "    # load in edge index\n",
    "    edges['i_id'] = edges['i'].map(iso_code_to_id)\n",
    "    edges['j_id'] = edges['j'].map(iso_code_to_id)\n",
    "    edge_index = torch.from_numpy(edges[['i_id', 'j_id']].to_numpy(np.int64)).t()\n",
    "    edge_attr = torch.from_numpy(edges[EDGE_FEATURES].to_numpy(np.float32)) #extract the features from the dataset.\n",
    "    edge_attr = (edge_attr - edge_attr.mean(axis=0)) / (edge_attr.std(axis=0))\n",
    "    \n",
    "    # load in target values\n",
    "    y_df = pd.read_csv(f'{DOWNLOAD_PREFIX}/output/Y_{year}.csv')\n",
    "    y_df['id'] = y_df['iso_code'].map(iso_code_to_id)\n",
    "    y = torch.from_numpy(y_df.sort_values('id')[f'{year+1}'].to_numpy(np.float32)).unsqueeze(1)# get labels as tensor\n",
    "    y = y.log() # log scale since spread of GDP is large\n",
    "    \n",
    "    # load in input features\n",
    "    x_df = pd.read_csv(f'{DOWNLOAD_PREFIX}/output/X_NODE_{year}.csv')\n",
    "    x_df['id'] = x_df['iso_code'].map(iso_code_to_id)\n",
    "    features = ['pop', 'cpi', 'emp']\n",
    "    x = torch.from_numpy(x_df.sort_values('id').loc[:,features].to_numpy(np.float32))\n",
    "    x = (x - x.mean(axis=0)) / (x.std(axis=0))  # scale and center data\n",
    "    return Data(x=x, edge_index=edge_index, edge_attr=edge_attr, y=y)\n",
    "\n",
    "def evaluate_model(model, data_iter):\n",
    "    '''\n",
    "    Accumulate MSE over a data list or loader.\n",
    "    '''\n",
    "    return sum([F.mse_loss(model(data), data.y).item() for data in data_iter])\n",
    "\n",
    "def get_data():\n",
    "    '''\n",
    "    Generate data_lists for train, val, and test. These lists can be either loaded into data_loaders\n",
    "    or indexed directly.\n",
    "    '''\n",
    "\n",
    "    data_list = [create_data(year) for year in range(FIRST_YEAR, LAST_YEAR)]\n",
    "    random.shuffle(data_list)\n",
    "    data_train = data_list[:NUM_TRAIN]\n",
    "    data_val = data_list[NUM_TRAIN:NUM_TRAIN+NUM_VAL+1]\n",
    "    data_test = data_list[NUM_TRAIN+NUM_VAL:]\n",
    "    return (data_train, data_val, data_test)"
   ]
  },
  {
   "cell_type": "code",
   "execution_count": 4,
   "id": "97bb6b2c",
   "metadata": {},
   "outputs": [],
   "source": [
    "data_train, data_val, data_test = get_data() # the function described above, these data are what we'll work with"
   ]
  },
  {
   "cell_type": "code",
   "execution_count": 39,
   "id": "bc143935",
   "metadata": {},
   "outputs": [
    {
     "ename": "NameError",
     "evalue": "name 'data_list' is not defined",
     "output_type": "error",
     "traceback": [
      "\u001b[0;31m---------------------------------------------------------------------------\u001b[0m",
      "\u001b[0;31mNameError\u001b[0m                                 Traceback (most recent call last)",
      "Cell \u001b[0;32mIn[39], line 1\u001b[0m\n\u001b[0;32m----> 1\u001b[0m \u001b[43mdata_list\u001b[49m\n",
      "\u001b[0;31mNameError\u001b[0m: name 'data_list' is not defined"
     ]
    }
   ],
   "source": [
    "data_list"
   ]
  },
  {
   "cell_type": "code",
   "execution_count": 44,
   "id": "bf4999c4",
   "metadata": {},
   "outputs": [
    {
     "data": {
      "text/plain": [
       "tensor([-0.1315,  0.6238,  0.2239, -0.1391,  0.7561,  0.9039, 20.0175,  0.1796,\n",
       "        -0.1735, 27.8697])"
      ]
     },
     "execution_count": 44,
     "metadata": {},
     "output_type": "execute_result"
    }
   ],
   "source": [
    "data_train[0].edge_attr[0]"
   ]
  },
  {
   "cell_type": "code",
   "execution_count": 45,
   "id": "a32b535e",
   "metadata": {},
   "outputs": [
    {
     "data": {
      "text/plain": [
       "tensor([ 4.1992e-02,  3.4500e-01,  2.4886e-01,  4.7984e-02,  7.0066e+00,\n",
       "        -5.5987e-02, -9.7999e-02,  2.5473e+01, -6.0308e-02, -6.7887e-03])"
      ]
     },
     "execution_count": 45,
     "metadata": {},
     "output_type": "execute_result"
    }
   ],
   "source": [
    "data_train[0].edge_attr[92]"
   ]
  },
  {
   "cell_type": "code",
   "execution_count": 42,
   "id": "a68179f6",
   "metadata": {},
   "outputs": [
    {
     "data": {
      "text/plain": [
       "torch.Size([194, 3])"
      ]
     },
     "execution_count": 42,
     "metadata": {},
     "output_type": "execute_result"
    }
   ],
   "source": [
    "data_train[0].x.shape"
   ]
  },
  {
   "cell_type": "code",
   "execution_count": 43,
   "id": "c1d850a6",
   "metadata": {},
   "outputs": [
    {
     "data": {
      "text/plain": [
       "torch.Size([2, 9802])"
      ]
     },
     "execution_count": 43,
     "metadata": {},
     "output_type": "execute_result"
    }
   ],
   "source": [
    "data_train[0].edge_index.shape"
   ]
  },
  {
   "cell_type": "code",
   "execution_count": 13,
   "id": "e86e8cd4",
   "metadata": {},
   "outputs": [
    {
     "data": {
      "text/plain": [
       "tensor([[ 39, 187],\n",
       "        [ 39, 187],\n",
       "        [ 39, 187],\n",
       "        ...,\n",
       "        [130, 185],\n",
       "        [130, 165],\n",
       "        [130, 140]])"
      ]
     },
     "execution_count": 13,
     "metadata": {},
     "output_type": "execute_result"
    }
   ],
   "source": [
    "index = data_train[0].edge_index.t()\n",
    "index"
   ]
  },
  {
   "cell_type": "code",
   "execution_count": 12,
   "id": "2f024f78",
   "metadata": {},
   "outputs": [
    {
     "data": {
      "text/plain": [
       "(array([], dtype=int64),)"
      ]
     },
     "execution_count": 12,
     "metadata": {},
     "output_type": "execute_result"
    }
   ],
   "source": [
    "np.where(index )"
   ]
  },
  {
   "cell_type": "code",
   "execution_count": 21,
   "id": "fe6598da",
   "metadata": {},
   "outputs": [],
   "source": [
    "res = []\n",
    "for i in index:\n",
    "    res.append(tuple(i.tolist()))"
   ]
  },
  {
   "cell_type": "code",
   "execution_count": 26,
   "id": "fc0b14e6",
   "metadata": {},
   "outputs": [
    {
     "name": "stdout",
     "output_type": "stream",
     "text": [
      "92\n",
      "93\n",
      "94\n",
      "95\n",
      "96\n",
      "97\n",
      "98\n",
      "99\n",
      "100\n",
      "101\n"
     ]
    }
   ],
   "source": [
    "for idx, i in enumerate(res):\n",
    "    if res[idx] == (187,39):\n",
    "        print(idx)"
   ]
  },
  {
   "cell_type": "code",
   "execution_count": 30,
   "id": "d9c18210",
   "metadata": {},
   "outputs": [
    {
     "data": {
      "text/plain": [
       "(39, 187)"
      ]
     },
     "execution_count": 30,
     "metadata": {},
     "output_type": "execute_result"
    }
   ],
   "source": [
    "res[9]"
   ]
  },
  {
   "cell_type": "code",
   "execution_count": 32,
   "id": "1370d9e5",
   "metadata": {},
   "outputs": [
    {
     "data": {
      "text/plain": [
       "tensor([[-0.1315,  0.6238,  0.2239, -0.1391,  0.7561,  0.9039, 20.0175,  0.1796,\n",
       "         -0.1735, 27.8697],\n",
       "        [-0.1315,  0.6238,  0.2239, -0.1391,  0.7561,  0.9039, 20.0175,  0.1796,\n",
       "         -0.1735, 27.8697],\n",
       "        [-0.1315,  0.6238,  0.2239, -0.1391,  0.7561,  0.9039, 20.0175,  0.1796,\n",
       "         -0.1735, 27.8697],\n",
       "        [-0.1315,  0.6238,  0.2239, -0.1391,  0.7561,  0.9039, 20.0175,  0.1796,\n",
       "         -0.1735, 27.8697],\n",
       "        [-0.1315,  0.6238,  0.2239, -0.1391,  0.7561,  0.9039, 20.0175,  0.1796,\n",
       "         -0.1735, 27.8697],\n",
       "        [-0.1315,  0.6238,  0.2239, -0.1391,  0.7561,  0.9039, 20.0175,  0.1796,\n",
       "         -0.1735, 27.8697],\n",
       "        [-0.1315,  0.6238,  0.2239, -0.1391,  0.7561,  0.9039, 20.0175,  0.1796,\n",
       "         -0.1735, 27.8697],\n",
       "        [-0.1315,  0.6238,  0.2239, -0.1391,  0.7561,  0.9039, 20.0175,  0.1796,\n",
       "         -0.1735, 27.8697],\n",
       "        [-0.1315,  0.6238,  0.2239, -0.1391,  0.7561,  0.9039, 20.0175,  0.1796,\n",
       "         -0.1735, 27.8697]])"
      ]
     },
     "execution_count": 32,
     "metadata": {},
     "output_type": "execute_result"
    }
   ],
   "source": [
    "data_train[0].edge_attr[0:9]"
   ]
  },
  {
   "cell_type": "code",
   "execution_count": 38,
   "id": "3e0fbebf",
   "metadata": {},
   "outputs": [
    {
     "data": {
      "text/plain": [
       "tensor([[ 4.1992e-02,  3.4500e-01,  2.4886e-01,  4.7984e-02,  7.0066e+00,\n",
       "         -5.5987e-02, -9.7999e-02,  2.5473e+01, -6.0308e-02, -6.7887e-03],\n",
       "        [ 4.1992e-02,  3.4500e-01,  2.4886e-01,  4.7984e-02,  7.0066e+00,\n",
       "         -5.5987e-02, -9.7999e-02,  2.5473e+01, -6.0308e-02, -6.7887e-03],\n",
       "        [ 4.1992e-02,  3.4500e-01,  2.4886e-01,  4.7984e-02,  7.0066e+00,\n",
       "         -5.5987e-02, -9.7999e-02,  2.5473e+01, -6.0308e-02, -6.7887e-03],\n",
       "        [ 4.1992e-02,  3.4500e-01,  2.4886e-01,  4.7984e-02,  7.0066e+00,\n",
       "         -5.5987e-02, -9.7999e-02,  2.5473e+01, -6.0308e-02, -6.7887e-03],\n",
       "        [ 4.1992e-02,  3.4500e-01,  2.4886e-01,  4.7984e-02,  7.0066e+00,\n",
       "         -5.5987e-02, -9.7999e-02,  2.5473e+01, -6.0308e-02, -6.7887e-03],\n",
       "        [ 4.1992e-02,  3.4500e-01,  2.4886e-01,  4.7984e-02,  7.0066e+00,\n",
       "         -5.5987e-02, -9.7999e-02,  2.5473e+01, -6.0308e-02, -6.7887e-03],\n",
       "        [ 4.1992e-02,  3.4500e-01,  2.4886e-01,  4.7984e-02,  7.0066e+00,\n",
       "         -5.5987e-02, -9.7999e-02,  2.5473e+01, -6.0308e-02, -6.7887e-03],\n",
       "        [ 4.1992e-02,  3.4500e-01,  2.4886e-01,  4.7984e-02,  7.0066e+00,\n",
       "         -5.5987e-02, -9.7999e-02,  2.5473e+01, -6.0308e-02, -6.7887e-03],\n",
       "        [ 4.1992e-02,  3.4500e-01,  2.4886e-01,  4.7984e-02,  7.0066e+00,\n",
       "         -5.5987e-02, -9.7999e-02,  2.5473e+01, -6.0308e-02, -6.7887e-03],\n",
       "        [ 4.1992e-02,  3.4500e-01,  2.4886e-01,  4.7984e-02,  7.0066e+00,\n",
       "         -5.5987e-02, -9.7999e-02,  2.5473e+01, -6.0308e-02, -6.7887e-03]])"
      ]
     },
     "execution_count": 38,
     "metadata": {},
     "output_type": "execute_result"
    }
   ],
   "source": [
    "data_train[0].edge_attr[92:102]"
   ]
  },
  {
   "cell_type": "code",
   "execution_count": 36,
   "id": "f15b6f4f",
   "metadata": {},
   "outputs": [
    {
     "data": {
      "text/plain": [
       "tensor([[187, 187, 187, 187, 187, 187, 187, 187, 187, 187],\n",
       "        [ 39,  39,  39,  39,  39,  39,  39,  39,  39,  39]])"
      ]
     },
     "execution_count": 36,
     "metadata": {},
     "output_type": "execute_result"
    }
   ],
   "source": [
    "data_train[0].edge_index[:,92:102]"
   ]
  },
  {
   "cell_type": "code",
   "execution_count": null,
   "id": "3077d6c2",
   "metadata": {},
   "outputs": [],
   "source": []
  }
 ],
 "metadata": {
  "kernelspec": {
   "display_name": "thesis",
   "language": "python",
   "name": "thesis"
  },
  "language_info": {
   "codemirror_mode": {
    "name": "ipython",
    "version": 3
   },
   "file_extension": ".py",
   "mimetype": "text/x-python",
   "name": "python",
   "nbconvert_exporter": "python",
   "pygments_lexer": "ipython3",
   "version": "3.10.12"
  }
 },
 "nbformat": 4,
 "nbformat_minor": 5
}

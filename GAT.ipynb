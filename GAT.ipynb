{
 "cells": [
  {
   "cell_type": "code",
   "execution_count": 1,
   "id": "0f71bfd1",
   "metadata": {},
   "outputs": [],
   "source": [
    "from torch_geometric.datasets import Planetoid\n",
    "\n",
    "# Import dataset from PyTorch Geometric\n",
    "dataset = Planetoid(root=\".\", name=\"Cora\")\n",
    "data = dataset[0]"
   ]
  },
  {
   "cell_type": "code",
   "execution_count": 10,
   "id": "ca1515f3",
   "metadata": {},
   "outputs": [
    {
     "name": "stdout",
     "output_type": "stream",
     "text": [
      "GAT(\n",
      "  (gat1): GATv2Conv(3703, 32, heads=8)\n",
      "  (gat2): GATv2Conv(256, 6, heads=1)\n",
      ")\n",
      "torch.Size([3327, 3703])\n",
      "Epoch   0 | Train Loss: 1.823 | Train Acc: 10.83% | Val Loss: 1.81 | Val Acc: 18.20%\n",
      "torch.Size([3327, 3703])\n",
      "torch.Size([3327, 3703])\n",
      "torch.Size([3327, 3703])\n",
      "torch.Size([3327, 3703])\n",
      "torch.Size([3327, 3703])\n",
      "torch.Size([3327, 3703])\n",
      "torch.Size([3327, 3703])\n",
      "torch.Size([3327, 3703])\n",
      "torch.Size([3327, 3703])\n",
      "torch.Size([3327, 3703])\n",
      "torch.Size([3327, 3703])\n",
      "torch.Size([3327, 3703])\n",
      "torch.Size([3327, 3703])\n",
      "torch.Size([3327, 3703])\n",
      "torch.Size([3327, 3703])\n",
      "torch.Size([3327, 3703])\n",
      "torch.Size([3327, 3703])\n",
      "torch.Size([3327, 3703])\n",
      "torch.Size([3327, 3703])\n",
      "torch.Size([3327, 3703])\n",
      "Epoch  20 | Train Loss: 0.138 | Train Acc: 98.33% | Val Loss: 1.25 | Val Acc: 61.40%\n",
      "torch.Size([3327, 3703])\n",
      "torch.Size([3327, 3703])\n",
      "torch.Size([3327, 3703])\n",
      "torch.Size([3327, 3703])\n",
      "torch.Size([3327, 3703])\n",
      "torch.Size([3327, 3703])\n",
      "torch.Size([3327, 3703])\n",
      "torch.Size([3327, 3703])\n",
      "torch.Size([3327, 3703])\n",
      "torch.Size([3327, 3703])\n",
      "torch.Size([3327, 3703])\n",
      "torch.Size([3327, 3703])\n",
      "torch.Size([3327, 3703])\n",
      "torch.Size([3327, 3703])\n",
      "torch.Size([3327, 3703])\n",
      "torch.Size([3327, 3703])\n",
      "torch.Size([3327, 3703])\n",
      "torch.Size([3327, 3703])\n",
      "torch.Size([3327, 3703])\n",
      "torch.Size([3327, 3703])\n",
      "Epoch  40 | Train Loss: 0.142 | Train Acc: 98.33% | Val Loss: 1.27 | Val Acc: 58.20%\n",
      "torch.Size([3327, 3703])\n",
      "torch.Size([3327, 3703])\n",
      "torch.Size([3327, 3703])\n",
      "torch.Size([3327, 3703])\n",
      "torch.Size([3327, 3703])\n",
      "torch.Size([3327, 3703])\n",
      "torch.Size([3327, 3703])\n",
      "torch.Size([3327, 3703])\n",
      "torch.Size([3327, 3703])\n",
      "torch.Size([3327, 3703])\n",
      "torch.Size([3327, 3703])\n",
      "torch.Size([3327, 3703])\n",
      "torch.Size([3327, 3703])\n",
      "torch.Size([3327, 3703])\n",
      "torch.Size([3327, 3703])\n",
      "torch.Size([3327, 3703])\n",
      "torch.Size([3327, 3703])\n",
      "torch.Size([3327, 3703])\n",
      "torch.Size([3327, 3703])\n",
      "torch.Size([3327, 3703])\n",
      "Epoch  60 | Train Loss: 0.137 | Train Acc: 96.67% | Val Loss: 1.24 | Val Acc: 59.00%\n",
      "torch.Size([3327, 3703])\n",
      "torch.Size([3327, 3703])\n",
      "torch.Size([3327, 3703])\n",
      "torch.Size([3327, 3703])\n",
      "torch.Size([3327, 3703])\n",
      "torch.Size([3327, 3703])\n",
      "torch.Size([3327, 3703])\n",
      "torch.Size([3327, 3703])\n",
      "torch.Size([3327, 3703])\n",
      "torch.Size([3327, 3703])\n",
      "torch.Size([3327, 3703])\n",
      "torch.Size([3327, 3703])\n",
      "torch.Size([3327, 3703])\n",
      "torch.Size([3327, 3703])\n",
      "torch.Size([3327, 3703])\n",
      "torch.Size([3327, 3703])\n",
      "torch.Size([3327, 3703])\n",
      "torch.Size([3327, 3703])\n",
      "torch.Size([3327, 3703])\n",
      "torch.Size([3327, 3703])\n",
      "Epoch  80 | Train Loss: 0.097 | Train Acc: 100.00% | Val Loss: 1.22 | Val Acc: 58.20%\n",
      "torch.Size([3327, 3703])\n",
      "torch.Size([3327, 3703])\n",
      "torch.Size([3327, 3703])\n",
      "torch.Size([3327, 3703])\n",
      "torch.Size([3327, 3703])\n",
      "torch.Size([3327, 3703])\n",
      "torch.Size([3327, 3703])\n",
      "torch.Size([3327, 3703])\n",
      "torch.Size([3327, 3703])\n",
      "torch.Size([3327, 3703])\n",
      "torch.Size([3327, 3703])\n",
      "torch.Size([3327, 3703])\n",
      "torch.Size([3327, 3703])\n",
      "torch.Size([3327, 3703])\n",
      "torch.Size([3327, 3703])\n",
      "torch.Size([3327, 3703])\n",
      "torch.Size([3327, 3703])\n",
      "torch.Size([3327, 3703])\n",
      "torch.Size([3327, 3703])\n",
      "torch.Size([3327, 3703])\n",
      "Epoch 100 | Train Loss: 0.114 | Train Acc: 99.17% | Val Loss: 1.22 | Val Acc: 59.20%\n",
      "GAT test accuracy: 67.20%\n"
     ]
    }
   ],
   "source": [
    "import torch\n",
    "torch.manual_seed(1)\n",
    "import torch.nn.functional as F\n",
    "from torch_geometric.nn import GATv2Conv, GCNConv\n",
    "from torch.nn import Linear, Dropout\n",
    "import numpy as np\n",
    "\n",
    "\n",
    "def accuracy(y_pred, y_true):\n",
    "    \"\"\"Calculate accuracy.\"\"\"\n",
    "    return torch.sum(y_pred == y_true) / len(y_true)\n",
    "\n",
    "\n",
    "class GAT(torch.nn.Module):\n",
    "    def __init__(self, dim_in, dim_h, dim_out, heads=8):\n",
    "        super().__init__()\n",
    "        self.gat1 = GATv2Conv(dim_in, dim_h, heads=heads)\n",
    "        self.gat2 = GATv2Conv(dim_h*heads, dim_out, heads=1)\n",
    "\n",
    "    def forward(self, x, edge_index):\n",
    "        h = F.dropout(x, p=0.6, training=self.training)\n",
    "        h = self.gat1(h, edge_index)\n",
    "        h = F.elu(h)\n",
    "        h = F.dropout(h, p=0.6, training=self.training)\n",
    "        h = self.gat2(h, edge_index)\n",
    "        return F.log_softmax(h, dim=1)\n",
    "\n",
    "    def fit(self, data, epochs):\n",
    "        criterion = torch.nn.CrossEntropyLoss()\n",
    "        optimizer = torch.optim.Adam(self.parameters(), lr=0.01, weight_decay=0.01)\n",
    "\n",
    "        self.train()\n",
    "        for epoch in range(epochs+1):\n",
    "            optimizer.zero_grad()\n",
    "            print(data.x.shape)\n",
    "            out = self(data.x, data.edge_index)\n",
    "            loss = criterion(out[data.train_mask], data.y[data.train_mask])\n",
    "            acc = accuracy(out[data.train_mask].argmax(dim=1), data.y[data.train_mask])\n",
    "            loss.backward()\n",
    "            optimizer.step()\n",
    "\n",
    "            if(epoch % 20 == 0):\n",
    "                val_loss = criterion(out[data.val_mask], data.y[data.val_mask])\n",
    "                val_acc = accuracy(out[data.val_mask].argmax(dim=1), data.y[data.val_mask])\n",
    "                print(f'Epoch {epoch:>3} | Train Loss: {loss:.3f} | Train Acc: {acc*100:>5.2f}% | Val Loss: {val_loss:.2f} | Val Acc: {val_acc*100:.2f}%')\n",
    "\n",
    "    @torch.no_grad()\n",
    "    def test(self, data):\n",
    "        self.eval()\n",
    "        out = self(data.x, data.edge_index)\n",
    "        acc = accuracy(out.argmax(dim=1)[data.test_mask], data.y[data.test_mask])\n",
    "        return acc\n",
    "\n",
    "# Create the Vanilla GNN model\n",
    "gat = GAT(dataset.num_features, 32, dataset.num_classes)\n",
    "print(gat)\n",
    "\n",
    "# Train\n",
    "gat.fit(data, epochs=100)\n",
    "\n",
    "# Test\n",
    "acc = gat.test(data)\n",
    "print(f'GAT test accuracy: {acc*100:.2f}%')"
   ]
  },
  {
   "cell_type": "code",
   "execution_count": 11,
   "id": "4f970a26",
   "metadata": {},
   "outputs": [
    {
     "data": {
      "text/plain": [
       "Data(x=[3327, 3703], edge_index=[2, 9104], y=[3327], train_mask=[3327], val_mask=[3327], test_mask=[3327])"
      ]
     },
     "execution_count": 11,
     "metadata": {},
     "output_type": "execute_result"
    }
   ],
   "source": [
    "data"
   ]
  },
  {
   "cell_type": "code",
   "execution_count": 3,
   "id": "1832b885",
   "metadata": {},
   "outputs": [
    {
     "name": "stderr",
     "output_type": "stream",
     "text": [
      "Downloading https://github.com/kimiyoung/planetoid/raw/master/data/ind.citeseer.x\n",
      "Downloading https://github.com/kimiyoung/planetoid/raw/master/data/ind.citeseer.tx\n",
      "Downloading https://github.com/kimiyoung/planetoid/raw/master/data/ind.citeseer.allx\n",
      "Downloading https://github.com/kimiyoung/planetoid/raw/master/data/ind.citeseer.y\n",
      "Downloading https://github.com/kimiyoung/planetoid/raw/master/data/ind.citeseer.ty\n",
      "Downloading https://github.com/kimiyoung/planetoid/raw/master/data/ind.citeseer.ally\n",
      "Downloading https://github.com/kimiyoung/planetoid/raw/master/data/ind.citeseer.graph\n",
      "Downloading https://github.com/kimiyoung/planetoid/raw/master/data/ind.citeseer.test.index\n",
      "Processing...\n",
      "Done!\n"
     ]
    },
    {
     "data": {
      "text/plain": [
       "Data(x=[3327, 3703], edge_index=[2, 9104], y=[3327], train_mask=[3327], val_mask=[3327], test_mask=[3327])"
      ]
     },
     "execution_count": 3,
     "metadata": {},
     "output_type": "execute_result"
    }
   ],
   "source": [
    "dataset = Planetoid(root=\".\", name=\"CiteSeer\")\n",
    "data = dataset[0]\n",
    "data"
   ]
  },
  {
   "cell_type": "code",
   "execution_count": 4,
   "id": "8c7216b9",
   "metadata": {},
   "outputs": [
    {
     "data": {
      "text/plain": [
       "<BarContainer object of 32 artists>"
      ]
     },
     "execution_count": 4,
     "metadata": {},
     "output_type": "execute_result"
    },
    {
     "data": {
      "image/png": "[encoded data removed]",
      "text/plain": [
       "<Figure size 640x480 with 1 Axes>"
      ]
     },
     "metadata": {},
     "output_type": "display_data"
    }
   ],
   "source": [
    "import matplotlib.pyplot as plt\n",
    "from torch_geometric.utils import degree\n",
    "from collections import Counter\n",
    "\n",
    "# Get list of degrees for each node\n",
    "degrees = degree(dataset[0].edge_index[0]).numpy()\n",
    "\n",
    "# Count the number of nodes for each degree\n",
    "numbers = Counter(degrees)\n",
    "\n",
    "# Bar plot\n",
    "fig, ax = plt.subplots()\n",
    "ax.set_xlabel('Node degree')\n",
    "ax.set_ylabel('Number of nodes')\n",
    "plt.bar(numbers.keys(), numbers.values())"
   ]
  },
  {
   "cell_type": "code",
   "execution_count": 5,
   "id": "befca2b2",
   "metadata": {},
   "outputs": [
    {
     "name": "stdout",
     "output_type": "stream",
     "text": [
      "GAT(\n",
      "  (gat1): GATv2Conv(3703, 16, heads=8)\n",
      "  (gat2): GATv2Conv(128, 6, heads=1)\n",
      ")\n",
      "Epoch   0 | Train Loss: 1.803 | Train Acc: 15.83% | Val Loss: 1.81 | Val Acc: 16.60%\n",
      "Epoch  20 | Train Loss: 0.175 | Train Acc: 96.67% | Val Loss: 1.15 | Val Acc: 60.40%\n",
      "Epoch  40 | Train Loss: 0.134 | Train Acc: 97.50% | Val Loss: 1.22 | Val Acc: 62.00%\n",
      "Epoch  60 | Train Loss: 0.135 | Train Acc: 97.50% | Val Loss: 1.21 | Val Acc: 61.60%\n",
      "Epoch  80 | Train Loss: 0.111 | Train Acc: 100.00% | Val Loss: 1.15 | Val Acc: 63.60%\n",
      "Epoch 100 | Train Loss: 0.099 | Train Acc: 100.00% | Val Loss: 1.24 | Val Acc: 58.60%\n",
      "GAT test accuracy: 67.40%\n"
     ]
    }
   ],
   "source": [
    "# Create the Vanilla GNN model\n",
    "gat = GAT(dataset.num_features, 16, dataset.num_classes)\n",
    "print(gat)\n",
    "\n",
    "# Train\n",
    "gat.fit(data, epochs=100)\n",
    "\n",
    "# Test\n",
    "acc = gat.test(data)\n",
    "print(f'GAT test accuracy: {acc*100:.2f}%')"
   ]
  },
  {
   "cell_type": "code",
   "execution_count": 8,
   "id": "cc5b5dc6",
   "metadata": {},
   "outputs": [
    {
     "data": {
      "image/png": "[encoded data removed]",
      "text/plain": [
       "<Figure size 640x480 with 1 Axes>"
      ]
     },
     "metadata": {},
     "output_type": "display_data"
    }
   ],
   "source": [
    "# Get model's classifications\n",
    "out = gat(data.x, data.edge_index)\n",
    "\n",
    "# Calculate the degree of each node\n",
    "degrees = degree(data.edge_index[0]).numpy()\n",
    "\n",
    "# Store accuracy scores and sample sizes\n",
    "accuracies = []\n",
    "sizes = []\n",
    "\n",
    "# Accuracy for degrees between 0 and 5\n",
    "for i in range(0, 6):\n",
    "    mask = np.where(degrees == i)[0]\n",
    "    accuracies.append(accuracy(out.argmax(dim=1)[mask], data.y[mask]))\n",
    "    sizes.append(len(mask))\n",
    "\n",
    "# Accuracy for degrees > 5\n",
    "mask = np.where(degrees > 5)[0]\n",
    "accuracies.append(accuracy(out.argmax(dim=1)[mask], data.y[mask]))\n",
    "sizes.append(len(mask))\n",
    "\n",
    "# Bar plot\n",
    "fig, ax = plt.subplots()\n",
    "ax.set_xlabel('Node degree')\n",
    "ax.set_ylabel('Accuracy score')\n",
    "plt.bar(['0','1','2','3','4','5','6+'], accuracies)\n",
    "for i in range(0, 7):\n",
    "    plt.text(i, accuracies[i], f'{accuracies[i]*100:.2f}%', ha='center', color='black')\n",
    "for i in range(0, 7):\n",
    "    plt.text(i, accuracies[i]//2, sizes[i], ha='center', color='white')"
   ]
  },
  {
   "cell_type": "code",
   "execution_count": null,
   "id": "865b82e2",
   "metadata": {},
   "outputs": [],
   "source": []
  }
 ],
 "metadata": {
  "kernelspec": {
   "display_name": "thesis",
   "language": "python",
   "name": "thesis"
  },
  "language_info": {
   "codemirror_mode": {
    "name": "ipython",
    "version": 3
   },
   "file_extension": ".py",
   "mimetype": "text/x-python",
   "name": "python",
   "nbconvert_exporter": "python",
   "pygments_lexer": "ipython3",
   "version": "3.10.12"
  }
 },
 "nbformat": 4,
 "nbformat_minor": 5
}

{
 "cells": [
  {
   "cell_type": "code",
   "execution_count": null,
   "id": "be448626",
   "metadata": {},
   "outputs": [],
   "source": [
    "import sys"
   ]
  },
  {
   "cell_type": "code",
   "execution_count": null,
   "id": "b8152a59",
   "metadata": {},
   "outputs": [],
   "source": []
  },
  {
   "cell_type": "code",
   "execution_count": 5,
   "id": "3044fb09",
   "metadata": {},
   "outputs": [],
   "source": [
    "# Initialize network\n",
    "network = Network()\n",
    "\n",
    "# Create input and reservoir layers\n",
    "input_layer = Input(n=100)  # 100 input neurons\n",
    "reservoir = LIFNodes(n=500)  # Reservoir with 500 spiking neurons\n",
    "\n",
    "# Connect the input layer to the reservoir\n",
    "connection = Connection(source=input_layer, target=reservoir)\n",
    "network.add_layer(input_layer, name='input')\n",
    "network.add_layer(reservoir, name='reservoir')\n",
    "network.add_connection(connection, source='input', target='reservoir')"
   ]
  },
  {
   "cell_type": "code",
   "execution_count": 6,
   "id": "ee036708",
   "metadata": {},
   "outputs": [],
   "source": [
    "inputs = torch.bernoulli(0.1 * torch.ones(100))  # Binary input spikes\n",
    "network.run(inputs=inputs, time=100)  # Run network for 100 time steps"
   ]
  },
  {
   "cell_type": "code",
   "execution_count": 7,
   "id": "783dfbb4",
   "metadata": {},
   "outputs": [],
   "source": [
    "# Get reservoir activity\n",
    "reservoir_activity = reservoir.state['v'].detach().numpy()\n",
    "\n",
    "# Train a logistic regression classifier\n",
    "labels = torch.randint(0, 2, (500,))  # Example labels\n",
    "clf = LogisticRegression()\n",
    "clf.fit(reservoir_activity, labels)"
   ]
  },
  {
   "cell_type": "code",
   "execution_count": 8,
   "id": "4381d06a",
   "metadata": {},
   "outputs": [],
   "source": [
    "reservoir_activity"
   ]
  },
  {
   "cell_type": "code",
   "execution_count": null,
   "id": "ea064476",
   "metadata": {},
   "outputs": [],
   "source": []
  }
 ],
 "metadata": {
  "kernelspec": {
   "display_name": "thesis",
   "language": "python",
   "name": "thesis"
  },
  "language_info": {
   "codemirror_mode": {
    "name": "ipython",
    "version": 3
   },
   "file_extension": ".py",
   "mimetype": "text/x-python",
   "name": "python",
   "nbconvert_exporter": "python",
   "pygments_lexer": "ipython3",
   "version": "3.10.12"
  }
 },
 "nbformat": 4,
 "nbformat_minor": 5
}

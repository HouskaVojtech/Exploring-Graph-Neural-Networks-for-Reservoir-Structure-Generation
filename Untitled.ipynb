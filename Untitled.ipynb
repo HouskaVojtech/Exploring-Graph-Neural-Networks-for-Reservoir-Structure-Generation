{
 "cells": [
  {
   "cell_type": "markdown",
   "id": "87cefac2",
   "metadata": {},
   "source": [
    "$tanh(W^{in}x(n)+W^{res}(h-1)+W^{fb}y(n-1) + b^{rec} + \\epsilon)$\n",
    "\n",
    "term $W^{fb}y(n-1)$ feedback connections are not necessary"
   ]
  },
  {
   "cell_type": "markdown",
   "id": "9967e652",
   "metadata": {},
   "source": [
    "$\\tilde{x}(n) = tanh(W^{in}[1;u(n)] + Wx(n-1))$ \n",
    "\n",
    "$x(n) = (1 − α)x(n − 1) + α\\tilde{x}(n)$\n",
    "\n",
    "where $x(n) \\in \\mathbb{R}^{N_x}$ is a vector of reservoir neuron activations.  \n",
    "$\\tilde{x}(n) \\in \\mathbb{R}^{N_x}$ is its update at time stemp $n$\n",
    "\n",
    "$W^{in} \\in \\mathbb{R}^{N_x \\times (1+N_u)}$ and $W \\in \\mathbb{R}^{N_x \\times N_x}$ are input and recurrent weights respectively.  α ∈ (0, 1] is leaking rate.\n",
    "\n",
    "linear readout layer:\n",
    "$ y(n) = W^{out}[1; u(n); x(n)]$\n",
    "\n",
    "where $y(n) \\in \\mathbb{R}^{N_y}$ is network output and $W^{out} \\in \\mathbb{R}^{N_y\\times(1+N_u+N_x)}$ output weight matrix"
   ]
  },
  {
   "cell_type": "code",
   "execution_count": 1,
   "id": "2766b89b",
   "metadata": {},
   "outputs": [],
   "source": [
    "import numpy as np\n",
    "import matplotlib.pyplot as plt"
   ]
  },
  {
   "cell_type": "code",
   "execution_count": 2,
   "id": "21680769",
   "metadata": {},
   "outputs": [
    {
     "name": "stdout",
     "output_type": "stream",
     "text": [
      "[[[ 1.00020131]\n",
      "  [ 0.99676689]\n",
      "  [ 0.99501204]\n",
      "  [ 0.9733966 ]\n",
      "  [ 0.98637251]\n",
      "  [ 0.95951021]\n",
      "  [ 0.9644129 ]\n",
      "  [ 0.92567814]\n",
      "  [ 0.9193393 ]\n",
      "  [ 0.90412688]\n",
      "  [ 0.8740175 ]\n",
      "  [ 0.87271959]\n",
      "  [ 0.82775928]\n",
      "  [ 0.80780528]\n",
      "  [ 0.75344612]\n",
      "  [ 0.72080981]\n",
      "  [ 0.71456447]\n",
      "  [ 0.68029654]\n",
      "  [ 0.63827121]\n",
      "  [ 0.5732627 ]\n",
      "  [ 0.54788206]\n",
      "  [ 0.48554757]\n",
      "  [ 0.4532422 ]\n",
      "  [ 0.39621741]\n",
      "  [ 0.36108516]\n",
      "  [ 0.30309571]\n",
      "  [ 0.27002038]\n",
      "  [ 0.20805399]\n",
      "  [ 0.16429462]\n",
      "  [ 0.10771782]\n",
      "  [ 0.06885773]\n",
      "  [ 0.02290339]\n",
      "  [-0.03916595]\n",
      "  [-0.09827854]\n",
      "  [-0.13439708]\n",
      "  [-0.19290085]\n",
      "  [-0.23856481]\n",
      "  [-0.27925813]\n",
      "  [-0.35081599]\n",
      "  [-0.36944038]\n",
      "  [-0.42835642]\n",
      "  [-0.45616944]\n",
      "  [-0.51679573]\n",
      "  [-0.55306627]\n",
      "  [-0.5957215 ]\n",
      "  [-0.64552072]\n",
      "  [-0.67368309]\n",
      "  [-0.70851781]\n",
      "  [-0.73929491]\n",
      "  [-0.78209556]\n",
      "  [-0.8091998 ]\n",
      "  [-0.82506097]\n",
      "  [-0.85886926]\n",
      "  [-0.8935787 ]\n",
      "  [-0.92168066]\n",
      "  [-0.9384679 ]\n",
      "  [-0.93890998]\n",
      "  [-0.97378658]\n",
      "  [-0.9710243 ]\n",
      "  [-0.98455709]\n",
      "  [-0.9861632 ]\n",
      "  [-0.99296753]\n",
      "  [-0.99545944]\n",
      "  [-1.00497224]\n",
      "  [-1.00194356]\n",
      "  [-1.00068837]\n",
      "  [-0.99318643]\n",
      "  [-0.98847584]\n",
      "  [-0.96120931]\n",
      "  [-0.9366196 ]\n",
      "  [-0.92236141]\n",
      "  [-0.91121098]\n",
      "  [-0.88649038]\n",
      "  [-0.8720643 ]\n",
      "  [-0.82156873]\n",
      "  [-0.80158995]\n",
      "  [-0.76887869]\n",
      "  [-0.74815548]\n",
      "  [-0.70600941]\n",
      "  [-0.67198507]\n",
      "  [-0.63208176]\n",
      "  [-0.60402833]\n",
      "  [-0.56683751]\n",
      "  [-0.51208797]\n",
      "  [-0.46188744]\n",
      "  [-0.43326601]\n",
      "  [-0.36347446]\n",
      "  [-0.3369629 ]\n",
      "  [-0.28098044]\n",
      "  [-0.23129621]\n",
      "  [-0.1673953 ]\n",
      "  [-0.12899431]\n",
      "  [-0.07517223]\n",
      "  [-0.02581559]\n",
      "  [ 0.03049535]\n",
      "  [ 0.06781718]\n",
      "  [ 0.11774793]\n",
      "  [ 0.164775  ]\n",
      "  [ 0.21299552]\n",
      "  [ 0.26874591]\n",
      "  [ 0.32744563]\n",
      "  [ 0.36123406]\n",
      "  [ 0.41465039]\n",
      "  [ 0.44098003]\n",
      "  [ 0.49275871]\n",
      "  [ 0.53091429]\n",
      "  [ 0.57713923]\n",
      "  [ 0.6119589 ]\n",
      "  [ 0.65643049]\n",
      "  [ 0.69354417]\n",
      "  [ 0.73617424]\n",
      "  [ 0.76303557]\n",
      "  [ 0.80246685]\n",
      "  [ 0.80670443]\n",
      "  [ 0.84351007]\n",
      "  [ 0.8700995 ]\n",
      "  [ 0.89616131]\n",
      "  [ 0.91172686]\n",
      "  [ 0.92523695]\n",
      "  [ 0.93497334]\n",
      "  [ 0.9562779 ]\n",
      "  [ 0.98065909]\n",
      "  [ 0.98746999]\n",
      "  [ 1.00279513]\n",
      "  [ 1.00570576]\n",
      "  [ 0.99820623]\n",
      "  [ 0.99791347]\n",
      "  [ 0.99215059]\n",
      "  [ 0.99066468]\n",
      "  [ 0.97896875]\n",
      "  [ 0.97221595]\n",
      "  [ 0.9594004 ]\n",
      "  [ 0.94629592]\n",
      "  [ 0.91427016]\n",
      "  [ 0.89982238]\n",
      "  [ 0.87135281]\n",
      "  [ 0.85951409]\n",
      "  [ 0.82376655]\n",
      "  [ 0.79816897]\n",
      "  [ 0.76602322]\n",
      "  [ 0.72064612]\n",
      "  [ 0.68300208]\n",
      "  [ 0.65116817]\n",
      "  [ 0.61203963]\n",
      "  [ 0.56418099]\n",
      "  [ 0.52444708]\n",
      "  [ 0.48058278]\n",
      "  [ 0.45824492]\n",
      "  [ 0.40250073]\n",
      "  [ 0.37184565]\n",
      "  [ 0.31322531]\n",
      "  [ 0.25871573]\n",
      "  [ 0.22279527]\n",
      "  [ 0.15494916]\n",
      "  [ 0.11349066]\n",
      "  [ 0.06332554]\n",
      "  [ 0.01757391]\n",
      "  [-0.03299005]\n",
      "  [-0.08234888]\n",
      "  [-0.13066297]\n",
      "  [-0.17714522]\n",
      "  [-0.23995982]\n",
      "  [-0.27629274]\n",
      "  [-0.34131094]\n",
      "  [-0.37040806]\n",
      "  [-0.42672623]\n",
      "  [-0.46471926]\n",
      "  [-0.49801049]\n",
      "  [-0.5563592 ]\n",
      "  [-0.58335772]\n",
      "  [-0.6276706 ]\n",
      "  [-0.67974679]\n",
      "  [-0.71173443]\n",
      "  [-0.74403626]\n",
      "  [-0.77611098]\n",
      "  [-0.8045784 ]\n",
      "  [-0.84406237]\n",
      "  [-0.87379465]\n",
      "  [-0.88445834]\n",
      "  [-0.89790898]\n",
      "  [-0.92838054]\n",
      "  [-0.93899646]\n",
      "  [-0.9663351 ]\n",
      "  [-0.98673826]\n",
      "  [-0.98715682]\n",
      "  [-0.98007924]\n",
      "  [-1.00370952]\n",
      "  [-1.00018164]\n",
      "  [-1.0068619 ]\n",
      "  [-1.00435253]\n",
      "  [-0.99062832]\n",
      "  [-0.99812991]\n",
      "  [-0.96735546]\n",
      "  [-0.96751035]\n",
      "  [-0.94199894]\n",
      "  [-0.92223459]\n",
      "  [-0.91641615]\n",
      "  [-0.87532873]\n",
      "  [-0.86016365]\n",
      "  [-0.82530699]]]\n"
     ]
    }
   ],
   "source": [
    "\n",
    "class EchoStateNetwork:\n",
    "    def __init__(self, n_input, n_reservoir, n_output, spectral_radius=1.25, sparsity=0.1, noise=0.001, random_state=None):\n",
    "        \"\"\"\n",
    "        Initialize the Echo State Network.\n",
    "        \n",
    "        Parameters:\n",
    "        - n_input: Number of input units.\n",
    "        - n_reservoir: Number of reservoir neurons.\n",
    "        - n_output: Number of output units.\n",
    "        - spectral_radius: Scaling factor for the reservoir weights.\n",
    "        - sparsity: Fraction of weights set to zero in the reservoir.\n",
    "        - noise: Amount of noise to add to the reservoir dynamics.\n",
    "        - random_state: Random seed for reproducibility.\n",
    "        \"\"\"\n",
    "        # just for the random seed\n",
    "        if random_state is not None:\n",
    "            np.random.seed(random_state)\n",
    "        \n",
    "        self.n_input = n_input\n",
    "        self.n_reservoir = n_reservoir\n",
    "        self.n_output = n_output\n",
    "        self.spectral_radius = spectral_radius\n",
    "        # this number is used for making the sparsity\n",
    "        self.sparsity = sparsity\n",
    "        \n",
    "        # pbbly for the noise ammount\n",
    "        self.noise = noise\n",
    "\n",
    "        # Input weight matrix\n",
    "        self.W_in = np.random.uniform(-1, 1, (n_reservoir, n_input + 1))  # +1 for bias term\n",
    "\n",
    "        # Reservoir weight matrix (random sparse matrix)\n",
    "        W_res = np.random.rand(n_reservoir, n_reservoir) - 0.5\n",
    "        # ah ok so you 0 out every place that has more thant sparsity based on a normaly distributed matrix\n",
    "        W_res[np.random.rand(*W_res.shape) > sparsity] = 0\n",
    "        # Rescale to ensure the spectral radius\n",
    "        rho_W = np.max(np.abs(np.linalg.eigvals(W_res)))\n",
    "        self.W_res = W_res * (spectral_radius / rho_W)\n",
    "\n",
    "        # Output weight matrix (initialized later)\n",
    "        self.W_out = None\n",
    "\n",
    "    def _update_reservoir(self, x, r):\n",
    "        \"\"\"\n",
    "        Update the reservoir state.\n",
    "        \n",
    "        Parameters:\n",
    "        - x: Current input.\n",
    "        - r: Previous reservoir state.\n",
    "        \n",
    "        Returns:\n",
    "        - Updated reservoir state.\n",
    "        \"\"\"\n",
    "        input_with_bias = np.hstack([1.0, x])  # Add bias term to input\n",
    "        # input_wiht_bias.shape == 1,self.n_input+1 \n",
    "        # W_in.shape == self.n_reservoir, self.n_input+1\n",
    "        # np.dot(self.W_in, input_with_bias).shape == self.n_reservoir\n",
    "        # r_new.shape == self.n_reservoir\n",
    "        r_new = np.tanh(np.dot(self.W_in, input_with_bias) + np.dot(self.W_res, r) + self.noise * np.random.randn(self.n_reservoir))\n",
    "        return r_new\n",
    "\n",
    "    def fit(self, X, y, ridge_reg=1e-6):\n",
    "        \"\"\"\n",
    "        Train the output weights using ridge regression.\n",
    "        \n",
    "        Parameters:\n",
    "        - X: Input data (n_samples, n_timesteps, n_features).\n",
    "        - y: Target data (n_samples, n_timesteps, n_output).\n",
    "        - ridge_reg: Regularization strength for ridge regression.\n",
    "        \"\"\"\n",
    "        n_samples, n_timesteps, _ = X.shape\n",
    "        \n",
    "        # Initialize reservoir states\n",
    "        reservoir_states = np.zeros((n_samples * n_timesteps, self.n_reservoir))\n",
    "\n",
    "        # Collect reservoir states\n",
    "        for i in range(n_samples):\n",
    "            r = np.zeros(self.n_reservoir)  # Initial reservoir state\n",
    "            for t in range(n_timesteps):\n",
    "                r = self._update_reservoir(X[i, t], r)\n",
    "                reservoir_states[i * n_timesteps + t] = r\n",
    "\n",
    "        # Add bias term to reservoir states\n",
    "        reservoir_states_with_bias = np.hstack([np.ones((reservoir_states.shape[0], 1)), reservoir_states])\n",
    "\n",
    "        # Flatten target data\n",
    "        target = y.reshape(-1, self.n_output)\n",
    "\n",
    "        # Ridge regression to compute output weights\n",
    "        self.W_out = np.dot(\n",
    "            np.linalg.pinv(np.dot(reservoir_states_with_bias.T, reservoir_states_with_bias) + ridge_reg * np.eye(reservoir_states_with_bias.shape[1])),\n",
    "            np.dot(reservoir_states_with_bias.T, target)\n",
    "        )\n",
    "\n",
    "    def predict(self, X):\n",
    "        \"\"\"\n",
    "        Predict output for the given input data.\n",
    "        \n",
    "        Parameters:\n",
    "        - X: Input data (n_samples, n_timesteps, n_features).\n",
    "        \n",
    "        Returns:\n",
    "        - Predicted output (n_samples, n_timesteps, n_output).\n",
    "        \"\"\"\n",
    "        n_samples, n_timesteps, _ = X.shape\n",
    "        predictions = np.zeros((n_samples, n_timesteps, self.n_output))\n",
    "\n",
    "        for i in range(n_samples):\n",
    "            r = np.zeros(self.n_reservoir)  # Initial reservoir state\n",
    "            for t in range(n_timesteps):\n",
    "                r = self._update_reservoir(X[i, t], r)\n",
    "                input_with_bias = np.hstack([1.0, r])  # Add bias term\n",
    "                predictions[i, t] = np.dot(input_with_bias, self.W_out)\n",
    "\n",
    "        return predictions\n",
    "\n",
    "# Example usage:\n",
    "\n",
    "# Initialize ESN\n",
    "esn = EchoStateNetwork(n_input=1, n_reservoir=100, n_output=1, spectral_radius=1.25, sparsity=0.1, random_state=42)\n",
    "\n",
    "# Create dummy training data (sine wave)\n",
    "timesteps = 200\n",
    "X_train = np.sin(np.linspace(0, 10, timesteps)).reshape(1, timesteps, 1)\n",
    "y_train = np.cos(np.linspace(0, 10, timesteps)).reshape(1, timesteps, 1)\n",
    "\n",
    "# Train the ESN\n",
    "esn.fit(X_train, y_train)\n",
    "\n",
    "# Predict on the training data\n",
    "y_pred = esn.predict(X_train)\n",
    "\n",
    "# Output the first few predictions\n",
    "print(y_pred[:5])\n"
   ]
  },
  {
   "cell_type": "code",
   "execution_count": 3,
   "id": "cba897b6",
   "metadata": {},
   "outputs": [],
   "source": [
    "timesteps = 200\n",
    "X_train = np.sin(np.linspace(0, 10, timesteps)).reshape(1, timesteps, 1)"
   ]
  },
  {
   "cell_type": "code",
   "execution_count": 4,
   "id": "b8bd1060",
   "metadata": {},
   "outputs": [
    {
     "data": {
      "text/plain": [
       "(1, 200, 1)"
      ]
     },
     "execution_count": 4,
     "metadata": {},
     "output_type": "execute_result"
    }
   ],
   "source": [
    "X_train.shape"
   ]
  },
  {
   "cell_type": "code",
   "execution_count": 5,
   "id": "6587d29b",
   "metadata": {},
   "outputs": [
    {
     "data": {
      "text/plain": [
       "(1, 200, 1)"
      ]
     },
     "execution_count": 5,
     "metadata": {},
     "output_type": "execute_result"
    }
   ],
   "source": [
    "y_pred.shape"
   ]
  },
  {
   "cell_type": "code",
   "execution_count": 6,
   "id": "981385c3",
   "metadata": {},
   "outputs": [
    {
     "data": {
      "text/plain": [
       "[<matplotlib.lines.Line2D at 0x78474013c040>]"
      ]
     },
     "execution_count": 6,
     "metadata": {},
     "output_type": "execute_result"
    },
    {
     "data": {
      "image/png": "[encoded data removed]",
      "text/plain": [
       "<Figure size 640x480 with 1 Axes>"
      ]
     },
     "metadata": {},
     "output_type": "display_data"
    }
   ],
   "source": [
    "plt.plot(X_train[0])\n",
    "plt.plot(y_pred[0])"
   ]
  },
  {
   "cell_type": "code",
   "execution_count": 39,
   "id": "4e6d2647",
   "metadata": {},
   "outputs": [
    {
     "name": "stdout",
     "output_type": "stream",
     "text": [
      "Signal shape: (650000, 2)\n",
      "Signal sampling rate: 360 Hz\n"
     ]
    }
   ],
   "source": [
    "import wfdb\n",
    "from wfdb import processing\n",
    "\n",
    "# Download a sample record from the MIT-BIH Arrhythmia Database\n",
    "record_name = '100'\n",
    "#wfdb.dl_database('mitdb', './mitdb')\n",
    "\n",
    "# Read the ECG signal and annotation from the dataset\n",
    "record = wfdb.rdrecord(f'./mitdb/{record_name}')\n",
    "annotation = wfdb.rdann(f'./mitdb/{record_name}', 'atr')\n",
    "\n",
    "# Extracting the signal (ECG data)\n",
    "ecg_signal = record.p_signal\n",
    "\n",
    "# Display some information\n",
    "print(f\"Signal shape: {ecg_signal.shape}\")\n",
    "print(f\"Signal sampling rate: {record.fs} Hz\")\n"
   ]
  },
  {
   "cell_type": "code",
   "execution_count": 40,
   "id": "7ace6e6a",
   "metadata": {},
   "outputs": [
    {
     "data": {
      "text/plain": [
       "[<matplotlib.lines.Line2D at 0x7150a0724160>]"
      ]
     },
     "execution_count": 40,
     "metadata": {},
     "output_type": "execute_result"
    },
    {
     "data": {
      "image/png": "[encoded data removed]",
      "text/plain": [
       "<Figure size 640x480 with 1 Axes>"
      ]
     },
     "metadata": {},
     "output_type": "display_data"
    }
   ],
   "source": [
    "plt.plot(ecg_signal[:1000,0])"
   ]
  },
  {
   "cell_type": "code",
   "execution_count": 47,
   "id": "7143c7dc",
   "metadata": {},
   "outputs": [],
   "source": [
    "import numpy as np\n",
    "from sklearn.model_selection import train_test_split\n",
    "from sklearn.preprocessing import MinMaxScaler\n",
    "\n",
    "# Load your ECG data here (assuming it's a 1D array)\n",
    "# For example, you can use the following to simulate ECG data:\n",
    "import wfdb\n",
    "from wfdb import processing\n",
    "\n",
    "# Example using a public ECG dataset from PhysioNet (if available)\n",
    "# record = wfdb.rdsamp('100')  # MIT-BIH arrhythmia database record 100\n",
    "#ecg_data = record.p_signals[:, 0]  # First channel (lead) of ECG signal\n",
    "\n",
    "# Simulated ECG data for the purpose of demonstration\n",
    "timesteps = 5000\n",
    "# ecg_data = np.sin(np.linspace(0, 40, timesteps)) + 0.1 * np.random.randn(timesteps)  # Sin wave with noise\n",
    "\n",
    "# Normalize ECG data to range [-1, 1]\n",
    "scaler = MinMaxScaler(feature_range=(-1, 1))\n",
    "ecg_data = scaler.fit_transform(ecg_signal[:10000,0].reshape(-1, 1)).flatten()\n",
    "\n",
    "# Create sliding window data for time series forecasting\n",
    "window_size = 50\n",
    "X = []\n",
    "y = []\n",
    "\n",
    "for i in range(len(ecg_data) - window_size):\n",
    "    X.append(ecg_data[i:i + window_size])\n",
    "    y.append(ecg_data[i + window_size])\n",
    "\n",
    "X = np.array(X)\n",
    "y = np.array(y).reshape(-1, 1)\n",
    "\n",
    "# Split into training and test sets\n",
    "X_train, X_test, y_train, y_test = train_test_split(X, y, test_size=0.2, shuffle=False)\n",
    "\n",
    "# Reshape to match the ESN input format: (n_samples, n_timesteps, n_features)\n",
    "X_train = X_train.reshape(-1, window_size, 1)\n",
    "X_test = X_test.reshape(-1, window_size, 1)\n"
   ]
  },
  {
   "cell_type": "code",
   "execution_count": 51,
   "id": "755ef065",
   "metadata": {},
   "outputs": [
    {
     "data": {
      "text/plain": [
       "(7960, 1)"
      ]
     },
     "execution_count": 51,
     "metadata": {},
     "output_type": "execute_result"
    }
   ],
   "source": [
    "y_train.shape"
   ]
  },
  {
   "cell_type": "code",
   "execution_count": 48,
   "id": "3e4d68bf",
   "metadata": {},
   "outputs": [
    {
     "data": {
      "text/plain": [
       "(7960, 50, 1)"
      ]
     },
     "execution_count": 48,
     "metadata": {},
     "output_type": "execute_result"
    }
   ],
   "source": [
    "X_train.shape"
   ]
  },
  {
   "cell_type": "code",
   "execution_count": 49,
   "id": "036afb9f",
   "metadata": {},
   "outputs": [
    {
     "ename": "ValueError",
     "evalue": "shapes (201,398000) and (7960,1) not aligned: 398000 (dim 1) != 7960 (dim 0)",
     "output_type": "error",
     "traceback": [
      "\u001b[0;31m---------------------------------------------------------------------------\u001b[0m",
      "\u001b[0;31mValueError\u001b[0m                                Traceback (most recent call last)",
      "Cell \u001b[0;32mIn[49], line 9\u001b[0m\n\u001b[1;32m      6\u001b[0m esn \u001b[38;5;241m=\u001b[39m EchoStateNetwork(n_input\u001b[38;5;241m=\u001b[39mn_input, n_reservoir\u001b[38;5;241m=\u001b[39mn_reservoir, n_output\u001b[38;5;241m=\u001b[39mn_output, spectral_radius\u001b[38;5;241m=\u001b[39m\u001b[38;5;241m1.25\u001b[39m, sparsity\u001b[38;5;241m=\u001b[39m\u001b[38;5;241m0.1\u001b[39m, random_state\u001b[38;5;241m=\u001b[39m\u001b[38;5;241m42\u001b[39m)\n\u001b[1;32m      8\u001b[0m \u001b[38;5;66;03m# Train the ESN on the ECG data\u001b[39;00m\n\u001b[0;32m----> 9\u001b[0m \u001b[43mesn\u001b[49m\u001b[38;5;241;43m.\u001b[39;49m\u001b[43mfit\u001b[49m\u001b[43m(\u001b[49m\u001b[43mX_train\u001b[49m\u001b[43m,\u001b[49m\u001b[43m \u001b[49m\u001b[43my_train\u001b[49m\u001b[43m)\u001b[49m\n\u001b[1;32m     11\u001b[0m \u001b[38;5;66;03m# Predict on test data\u001b[39;00m\n\u001b[1;32m     12\u001b[0m y_pred \u001b[38;5;241m=\u001b[39m esn\u001b[38;5;241m.\u001b[39mpredict(X_test)\n",
      "Cell \u001b[0;32mIn[36], line 85\u001b[0m, in \u001b[0;36mEchoStateNetwork.fit\u001b[0;34m(self, X, y, ridge_reg)\u001b[0m\n\u001b[1;32m     80\u001b[0m target \u001b[38;5;241m=\u001b[39m y\u001b[38;5;241m.\u001b[39mreshape(\u001b[38;5;241m-\u001b[39m\u001b[38;5;241m1\u001b[39m, \u001b[38;5;28mself\u001b[39m\u001b[38;5;241m.\u001b[39mn_output)\n\u001b[1;32m     82\u001b[0m \u001b[38;5;66;03m# Ridge regression to compute output weights\u001b[39;00m\n\u001b[1;32m     83\u001b[0m \u001b[38;5;28mself\u001b[39m\u001b[38;5;241m.\u001b[39mW_out \u001b[38;5;241m=\u001b[39m np\u001b[38;5;241m.\u001b[39mdot(\n\u001b[1;32m     84\u001b[0m     np\u001b[38;5;241m.\u001b[39mlinalg\u001b[38;5;241m.\u001b[39mpinv(np\u001b[38;5;241m.\u001b[39mdot(reservoir_states_with_bias\u001b[38;5;241m.\u001b[39mT, reservoir_states_with_bias) \u001b[38;5;241m+\u001b[39m ridge_reg \u001b[38;5;241m*\u001b[39m np\u001b[38;5;241m.\u001b[39meye(reservoir_states_with_bias\u001b[38;5;241m.\u001b[39mshape[\u001b[38;5;241m1\u001b[39m])),\n\u001b[0;32m---> 85\u001b[0m     \u001b[43mnp\u001b[49m\u001b[38;5;241;43m.\u001b[39;49m\u001b[43mdot\u001b[49m\u001b[43m(\u001b[49m\u001b[43mreservoir_states_with_bias\u001b[49m\u001b[38;5;241;43m.\u001b[39;49m\u001b[43mT\u001b[49m\u001b[43m,\u001b[49m\u001b[43m \u001b[49m\u001b[43mtarget\u001b[49m\u001b[43m)\u001b[49m\n\u001b[1;32m     86\u001b[0m )\n",
      "File \u001b[0;32m<__array_function__ internals>:200\u001b[0m, in \u001b[0;36mdot\u001b[0;34m(*args, **kwargs)\u001b[0m\n",
      "\u001b[0;31mValueError\u001b[0m: shapes (201,398000) and (7960,1) not aligned: 398000 (dim 1) != 7960 (dim 0)"
     ]
    }
   ],
   "source": [
    "# Initialize the ESN with appropriate input, reservoir, and output sizes\n",
    "n_input = X_train.shape[2]  # Number of input features\n",
    "n_reservoir = 200  # Size of the reservoir\n",
    "n_output = 1  # Predicting one value at each time step (the next ECG value)\n",
    "\n",
    "esn = EchoStateNetwork(n_input=n_input, n_reservoir=n_reservoir, n_output=n_output, spectral_radius=1.25, sparsity=0.1, random_state=42)\n",
    "\n",
    "# Train the ESN on the ECG data\n",
    "esn.fit(X_train, y_train)\n",
    "\n",
    "# Predict on test data\n",
    "y_pred = esn.predict(X_test)\n",
    "\n",
    "# Inverse transform to get the original ECG scale\n",
    "y_pred_rescaled = scaler.inverse_transform(y_pred.reshape(-1, 1)).flatten()\n",
    "y_test_rescaled = scaler.inverse_transform(y_test.reshape(-1, 1)).flatten()"
   ]
  },
  {
   "cell_type": "code",
   "execution_count": 52,
   "id": "7d17269c",
   "metadata": {},
   "outputs": [
    {
     "data": {
      "text/plain": [
       "50.0"
      ]
     },
     "execution_count": 52,
     "metadata": {},
     "output_type": "execute_result"
    }
   ],
   "source": [
    "398000 / 7960"
   ]
  },
  {
   "cell_type": "code",
   "execution_count": null,
   "id": "4db71e37",
   "metadata": {},
   "outputs": [],
   "source": []
  }
 ],
 "metadata": {
  "kernelspec": {
   "display_name": "thesis",
   "language": "python",
   "name": "thesis"
  },
  "language_info": {
   "codemirror_mode": {
    "name": "ipython",
    "version": 3
   },
   "file_extension": ".py",
   "mimetype": "text/x-python",
   "name": "python",
   "nbconvert_exporter": "python",
   "pygments_lexer": "ipython3",
   "version": "3.10.12"
  }
 },
 "nbformat": 4,
 "nbformat_minor": 5
}

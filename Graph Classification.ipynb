{
 "cells": [
  {
   "cell_type": "code",
   "execution_count": 9,
   "id": "7dbc3b15",
   "metadata": {},
   "outputs": [],
   "source": [
    "import torch"
   ]
  },
  {
   "cell_type": "code",
   "execution_count": 10,
   "id": "48c96d28",
   "metadata": {},
   "outputs": [],
   "source": [
    "from torch_geometric.datasets import TUDataset"
   ]
  },
  {
   "cell_type": "code",
   "execution_count": 11,
   "id": "7216f887",
   "metadata": {},
   "outputs": [
    {
     "name": "stdout",
     "output_type": "stream",
     "text": [
      "Dataset: PROTEINS(1113)\n",
      "-----------------------\n",
      "Number of graphs: 1113\n",
      "Number of nodes: 14\n",
      "Number of features: 3\n",
      "Number of classes: 2\n"
     ]
    }
   ],
   "source": [
    "dataset = TUDataset(root='.', name='PROTEINS').shuffle()\n",
    "\n",
    "print(f'Dataset: {dataset}')\n",
    "print('-----------------------')\n",
    "print(f'Number of graphs: {len(dataset)}')\n",
    "print(f'Number of nodes: {dataset[0].x.shape[0]}')\n",
    "print(f'Number of features: {dataset.num_features}')\n",
    "print(f'Number of classes: {dataset.num_classes}')"
   ]
  },
  {
   "cell_type": "code",
   "execution_count": 12,
   "id": "ac72e050",
   "metadata": {},
   "outputs": [
    {
     "data": {
      "text/plain": [
       "tensor([[1., 0., 0.],\n",
       "        [1., 0., 0.],\n",
       "        [1., 0., 0.],\n",
       "        [1., 0., 0.],\n",
       "        [1., 0., 0.],\n",
       "        [1., 0., 0.],\n",
       "        [1., 0., 0.],\n",
       "        [1., 0., 0.],\n",
       "        [0., 1., 0.],\n",
       "        [0., 1., 0.],\n",
       "        [0., 1., 0.],\n",
       "        [0., 1., 0.],\n",
       "        [0., 1., 0.],\n",
       "        [0., 1., 0.]])"
      ]
     },
     "execution_count": 12,
     "metadata": {},
     "output_type": "execute_result"
    }
   ],
   "source": [
    "dataset[0].x"
   ]
  },
  {
   "cell_type": "code",
   "execution_count": 13,
   "id": "b2fd5fac",
   "metadata": {},
   "outputs": [
    {
     "name": "stdout",
     "output_type": "stream",
     "text": [
      "Training set   = 890 graphs\n",
      "Validation set = 111 graphs\n",
      "Test set       = 112 graphs\n",
      "\n",
      "Train loader:\n",
      " - Batch 0: DataBatch(edge_index=[2, 7362], x=[1978, 3], y=[64], batch=[1978], ptr=[65])\n",
      " - Batch 1: DataBatch(edge_index=[2, 9310], x=[2485, 3], y=[64], batch=[2485], ptr=[65])\n",
      " - Batch 2: DataBatch(edge_index=[2, 7780], x=[2111, 3], y=[64], batch=[2111], ptr=[65])\n",
      " - Batch 3: DataBatch(edge_index=[2, 8934], x=[2515, 3], y=[64], batch=[2515], ptr=[65])\n",
      " - Batch 4: DataBatch(edge_index=[2, 6936], x=[1857, 3], y=[64], batch=[1857], ptr=[65])\n",
      " - Batch 5: DataBatch(edge_index=[2, 11856], x=[3062, 3], y=[64], batch=[3062], ptr=[65])\n",
      " - Batch 6: DataBatch(edge_index=[2, 7700], x=[2044, 3], y=[64], batch=[2044], ptr=[65])\n",
      " - Batch 7: DataBatch(edge_index=[2, 9554], x=[2520, 3], y=[64], batch=[2520], ptr=[65])\n",
      " - Batch 8: DataBatch(edge_index=[2, 10062], x=[2705, 3], y=[64], batch=[2705], ptr=[65])\n",
      " - Batch 9: DataBatch(edge_index=[2, 8110], x=[2160, 3], y=[64], batch=[2160], ptr=[65])\n",
      " - Batch 10: DataBatch(edge_index=[2, 9978], x=[2700, 3], y=[64], batch=[2700], ptr=[65])\n",
      " - Batch 11: DataBatch(edge_index=[2, 10240], x=[2752, 3], y=[64], batch=[2752], ptr=[65])\n",
      " - Batch 12: DataBatch(edge_index=[2, 7920], x=[2162, 3], y=[64], batch=[2162], ptr=[65])\n",
      " - Batch 13: DataBatch(edge_index=[2, 9230], x=[2408, 3], y=[58], batch=[2408], ptr=[59])\n",
      "\n",
      "Validation loader:\n",
      " - Batch 0: DataBatch(edge_index=[2, 11046], x=[3120, 3], y=[64], batch=[3120], ptr=[65])\n",
      " - Batch 1: DataBatch(edge_index=[2, 7952], x=[2056, 3], y=[47], batch=[2056], ptr=[48])\n",
      "\n",
      "Test loader:\n",
      " - Batch 0: DataBatch(edge_index=[2, 9780], x=[2676, 3], y=[64], batch=[2676], ptr=[65])\n",
      " - Batch 1: DataBatch(edge_index=[2, 8338], x=[2160, 3], y=[48], batch=[2160], ptr=[49])\n"
     ]
    }
   ],
   "source": [
    "from torch_geometric.loader import DataLoader\n",
    "\n",
    "# Create training, validation, and test sets\n",
    "train_dataset = dataset[:int(len(dataset)*0.8)]\n",
    "val_dataset   = dataset[int(len(dataset)*0.8):int(len(dataset)*0.9)]\n",
    "test_dataset  = dataset[int(len(dataset)*0.9):]\n",
    "\n",
    "print(f'Training set   = {len(train_dataset)} graphs')\n",
    "print(f'Validation set = {len(val_dataset)} graphs')\n",
    "print(f'Test set       = {len(test_dataset)} graphs')\n",
    "\n",
    "# Create mini-batches\n",
    "train_loader = DataLoader(train_dataset, batch_size=64, shuffle=True)\n",
    "val_loader   = DataLoader(val_dataset, batch_size=64, shuffle=True)\n",
    "test_loader  = DataLoader(test_dataset, batch_size=64, shuffle=True)\n",
    "\n",
    "print('\\nTrain loader:')\n",
    "for i, batch in enumerate(train_loader):\n",
    "    print(f' - Batch {i}: {batch}')\n",
    "\n",
    "print('\\nValidation loader:')\n",
    "for i, batch in enumerate(val_loader):\n",
    "    print(f' - Batch {i}: {batch}')\n",
    "\n",
    "print('\\nTest loader:')\n",
    "for i, batch in enumerate(test_loader):\n",
    "    print(f' - Batch {i}: {batch}')"
   ]
  },
  {
   "cell_type": "code",
   "execution_count": 22,
   "id": "3af44dbd",
   "metadata": {},
   "outputs": [],
   "source": [
    "import torch\n",
    "torch.manual_seed(0)\n",
    "import torch.nn.functional as F\n",
    "from torch.nn import Linear, Sequential, BatchNorm1d, ReLU, Dropout\n",
    "from torch_geometric.nn import GCNConv, GINConv, GATConv, GATv2Conv\n",
    "from torch_geometric.nn import global_mean_pool, global_add_pool\n",
    "\n",
    "\n",
    "class GCN(torch.nn.Module):\n",
    "    \"\"\"GCN\"\"\"\n",
    "    def __init__(self, dim_h):\n",
    "        super(GCN, self).__init__()\n",
    "        self.conv1 = GCNConv(dataset.num_node_features, dim_h)\n",
    "        self.conv2 = GCNConv(dim_h, dim_h)\n",
    "        self.conv3 = GCNConv(dim_h, dim_h)\n",
    "        self.lin = Linear(dim_h, dataset.num_classes)\n",
    "\n",
    "    def forward(self, x, edge_index, batch):\n",
    "        # Node embeddings \n",
    "        h = self.conv1(x, edge_index)\n",
    "        h = h.relu()\n",
    "        h = self.conv2(h, edge_index)\n",
    "        h = h.relu()\n",
    "        h = self.conv3(h, edge_index)\n",
    "\n",
    "        # Graph-level readout\n",
    "        hG = global_mean_pool(h, batch)\n",
    "\n",
    "        # Classifier\n",
    "        h = F.dropout(hG, p=0.5, training=self.training)\n",
    "        h = self.lin(h)\n",
    "        \n",
    "        return F.log_softmax(h, dim=1)\n",
    "\n",
    "class GIN(torch.nn.Module):\n",
    "    \"\"\"GIN\"\"\"\n",
    "    def __init__(self, dim_h):\n",
    "        super(GIN, self).__init__()\n",
    "        self.conv1 = GINConv(\n",
    "            Sequential(Linear(dataset.num_node_features, dim_h),\n",
    "                       BatchNorm1d(dim_h), ReLU(),\n",
    "                       Linear(dim_h, dim_h), ReLU()))\n",
    "        self.conv2 = GINConv(\n",
    "            Sequential(Linear(dim_h, dim_h), BatchNorm1d(dim_h), ReLU(),\n",
    "                       Linear(dim_h, dim_h), ReLU()))\n",
    "        self.conv3 = GINConv(\n",
    "            Sequential(Linear(dim_h, dim_h), BatchNorm1d(dim_h), ReLU(),\n",
    "                       Linear(dim_h, dim_h), ReLU()))\n",
    "        self.lin1 = Linear(dim_h*3, dim_h*3)\n",
    "        self.lin2 = Linear(dim_h*3, dataset.num_classes)\n",
    "\n",
    "    def forward(self, x, edge_index, batch):\n",
    "        # Node embeddings \n",
    "        h1 = self.conv1(x, edge_index)\n",
    "        h2 = self.conv2(h1, edge_index)\n",
    "        h3 = self.conv3(h2, edge_index)\n",
    "\n",
    "        # Graph-level readout\n",
    "        h1 = global_add_pool(h1, batch)\n",
    "        h2 = global_add_pool(h2, batch)\n",
    "        h3 = global_add_pool(h3, batch)\n",
    "\n",
    "        # Concatenate graph embeddings\n",
    "        h = torch.cat((h1, h2, h3), dim=1)\n",
    "\n",
    "        # Classifier\n",
    "        h = self.lin1(h)\n",
    "        h = h.relu()\n",
    "        h = F.dropout(h, p=0.5, training=self.training)\n",
    "        h = self.lin2(h)\n",
    "        \n",
    "        return F.log_softmax(h, dim=1)"
   ]
  },
  {
   "cell_type": "code",
   "execution_count": 15,
   "id": "ac7543cb",
   "metadata": {},
   "outputs": [],
   "source": [
    "class GAT(torch.nn.Module):\n",
    "    def __init__(self, dim_h):\n",
    "        super(GAT, self).__init__()\n",
    "        self.conv1 = GATConv(dataset.num_node_features, dim_h)\n",
    "        self.conv2 = GATConv(dim_h, dim_h)\n",
    "        self.conv3 = GATConv(dim_h, dim_h)\n",
    "        self.lin = Linear(dim_h, dataset.num_classes)\n",
    "\n",
    "    def forward(self, x, edge_index, batch):\n",
    "        # Node embeddings \n",
    "        h = self.conv1(x, edge_index)\n",
    "        h = h.relu()\n",
    "        h = self.conv2(h, edge_index)\n",
    "        h = h.relu()\n",
    "        h = self.conv3(h, edge_index)\n",
    "\n",
    "        # Graph-level readout\n",
    "        hG = global_mean_pool(h, batch)\n",
    "\n",
    "        # Classifier\n",
    "        h = F.dropout(hG, p=0.5, training=self.training)\n",
    "        h = self.lin(h)\n",
    "        \n",
    "        return F.log_softmax(h, dim=1)"
   ]
  },
  {
   "cell_type": "code",
   "execution_count": 37,
   "id": "0b619631",
   "metadata": {},
   "outputs": [],
   "source": [
    "class GATv2(torch.nn.Module):\n",
    "    def __init__(self, dim_h):\n",
    "        super(GATv2, self).__init__()\n",
    "        self.conv1 = GATv2Conv(dataset.num_node_features, dim_h)\n",
    "        self.conv2 = GATv2Conv(dim_h, dim_h)\n",
    "        self.conv3 = GATv2Conv(dim_h, dim_h)\n",
    "        self.lin = Linear(dim_h, dataset.num_classes)\n",
    "\n",
    "    def forward(self, x, edge_index, batch):\n",
    "        # Node embeddings \n",
    "        h = self.conv1(x, edge_index)\n",
    "        h = h.relu()\n",
    "        h = self.conv2(h, edge_index)\n",
    "        h = h.relu()\n",
    "        h = self.conv3(h, edge_index)\n",
    "\n",
    "        # Graph-level readout\n",
    "        hG = global_mean_pool(h, batch)\n",
    "\n",
    "        # Classifier\n",
    "        h = F.dropout(hG, p=0.5, training=self.training)\n",
    "        h = self.lin(h)\n",
    "        \n",
    "        return F.log_softmax(h, dim=1)"
   ]
  },
  {
   "cell_type": "code",
   "execution_count": 16,
   "id": "deeb7688",
   "metadata": {},
   "outputs": [],
   "source": [
    "def train(model, loader):\n",
    "    criterion = torch.nn.CrossEntropyLoss()\n",
    "    optimizer = torch.optim.Adam(model.parameters(), lr=0.01)\n",
    "    epochs = 100\n",
    "\n",
    "    model.train()\n",
    "    for epoch in range(epochs+1):\n",
    "        total_loss = 0\n",
    "        acc = 0\n",
    "        val_loss = 0\n",
    "        val_acc = 0\n",
    "\n",
    "        # Train on batches\n",
    "        for data in loader:\n",
    "            optimizer.zero_grad()\n",
    "            out = model(data.x, data.edge_index, data.batch)\n",
    "            loss = criterion(out, data.y)\n",
    "            total_loss += loss / len(loader)\n",
    "            acc += accuracy(out.argmax(dim=1), data.y) / len(loader)\n",
    "            loss.backward()\n",
    "            optimizer.step()\n",
    "\n",
    "            # Validation\n",
    "            val_loss, val_acc = test(model, val_loader)\n",
    "\n",
    "        # Print metrics every 20 epochs\n",
    "        if(epoch % 20 == 0):\n",
    "            print(f'Epoch {epoch:>3} | Train Loss: {total_loss:.2f} | Train Acc: {acc*100:>5.2f}% | Val Loss: {val_loss:.2f} | Val Acc: {val_acc*100:.2f}%')\n",
    "            \n",
    "    return model\n",
    "\n",
    "@torch.no_grad()\n",
    "def test(model, loader):\n",
    "    criterion = torch.nn.CrossEntropyLoss()\n",
    "    model.eval()\n",
    "    loss = 0\n",
    "    acc = 0\n",
    "\n",
    "    for data in loader:\n",
    "        out = model(data.x, data.edge_index, data.batch)\n",
    "        loss += criterion(out, data.y) / len(loader)\n",
    "        acc += accuracy(out.argmax(dim=1), data.y) / len(loader)\n",
    "\n",
    "    return loss, acc\n",
    "\n",
    "def accuracy(pred_y, y):\n",
    "    \"\"\"Calculate accuracy.\"\"\"\n",
    "    return ((pred_y == y).sum() / len(y)).item()\n",
    "\n"
   ]
  },
  {
   "cell_type": "code",
   "execution_count": 17,
   "id": "2ce249bc",
   "metadata": {},
   "outputs": [
    {
     "name": "stdout",
     "output_type": "stream",
     "text": [
      "Epoch   0 | Train Loss: 0.67 | Train Acc: 57.47% | Val Loss: 0.64 | Val Acc: 68.85%\n",
      "Epoch  20 | Train Loss: 0.60 | Train Acc: 72.31% | Val Loss: 0.69 | Val Acc: 65.01%\n",
      "Epoch  40 | Train Loss: 0.58 | Train Acc: 72.50% | Val Loss: 0.63 | Val Acc: 66.36%\n",
      "Epoch  60 | Train Loss: 0.59 | Train Acc: 73.16% | Val Loss: 0.60 | Val Acc: 67.92%\n",
      "Epoch  80 | Train Loss: 0.57 | Train Acc: 72.58% | Val Loss: 0.59 | Val Acc: 66.57%\n",
      "Epoch 100 | Train Loss: 0.58 | Train Acc: 72.73% | Val Loss: 0.59 | Val Acc: 71.83%\n",
      "Test Loss: 0.71 | Test Acc: 62.50%\n",
      "\n",
      "Epoch   0 | Train Loss: 1.33 | Train Acc: 56.31% | Val Loss: 0.54 | Val Acc: 70.55%\n",
      "Epoch  20 | Train Loss: 0.53 | Train Acc: 74.94% | Val Loss: 0.56 | Val Acc: 77.64%\n",
      "Epoch  40 | Train Loss: 0.51 | Train Acc: 76.45% | Val Loss: 0.58 | Val Acc: 73.32%\n",
      "Epoch  60 | Train Loss: 0.50 | Train Acc: 75.98% | Val Loss: 0.54 | Val Acc: 73.11%\n",
      "Epoch  80 | Train Loss: 0.48 | Train Acc: 77.41% | Val Loss: 0.50 | Val Acc: 74.24%\n",
      "Epoch 100 | Train Loss: 0.48 | Train Acc: 77.31% | Val Loss: 0.53 | Val Acc: 73.39%\n",
      "Test Loss: 0.55 | Test Acc: 72.14%\n",
      "Epoch   0 | Train Loss: 0.68 | Train Acc: 56.74% | Val Loss: 0.63 | Val Acc: 68.63%\n",
      "Epoch  20 | Train Loss: 0.58 | Train Acc: 72.16% | Val Loss: 0.61 | Val Acc: 71.04%\n",
      "Epoch  40 | Train Loss: 0.58 | Train Acc: 71.56% | Val Loss: 0.60 | Val Acc: 68.13%\n",
      "Epoch  60 | Train Loss: 0.58 | Train Acc: 71.69% | Val Loss: 0.59 | Val Acc: 69.76%\n",
      "Epoch  80 | Train Loss: 0.57 | Train Acc: 72.69% | Val Loss: 0.61 | Val Acc: 70.20%\n",
      "Epoch 100 | Train Loss: 0.57 | Train Acc: 73.61% | Val Loss: 0.59 | Val Acc: 70.05%\n",
      "Test Loss: 0.71 | Test Acc: 63.28%\n"
     ]
    }
   ],
   "source": [
    "gcn = GCN(dim_h=32)\n",
    "gcn = train(gcn, train_loader)\n",
    "test_loss, test_acc = test(gcn, test_loader)\n",
    "print(f'Test Loss: {test_loss:.2f} | Test Acc: {test_acc*100:.2f}%')\n",
    "print()\n",
    "\n",
    "gin = GIN(dim_h=32)\n",
    "gin = train(gin, train_loader)\n",
    "test_loss, test_acc = test(gin, test_loader)\n",
    "print(f'Test Loss: {test_loss:.2f} | Test Acc: {test_acc*100:.2f}%')\n",
    "print()\n",
    "\n",
    "gat = GAT(dim_h=32)\n",
    "gat = train(gat, train_loader)\n",
    "test_loss, test_acc = test(gat, test_loader)\n",
    "print(f'Test Loss: {test_loss:.2f} | Test Acc: {test_acc*100:.2f}%')"
   ]
  },
  {
   "cell_type": "code",
   "execution_count": 38,
   "id": "c91bf51a",
   "metadata": {},
   "outputs": [
    {
     "name": "stdout",
     "output_type": "stream",
     "text": [
      "Epoch   0 | Train Loss: 0.69 | Train Acc: 59.66% | Val Loss: 0.63 | Val Acc: 68.92%\n",
      "Epoch  20 | Train Loss: 0.58 | Train Acc: 72.83% | Val Loss: 0.63 | Val Acc: 68.70%\n",
      "Epoch  40 | Train Loss: 0.59 | Train Acc: 71.00% | Val Loss: 0.60 | Val Acc: 68.98%\n",
      "Epoch  60 | Train Loss: 0.58 | Train Acc: 71.19% | Val Loss: 0.61 | Val Acc: 65.51%\n",
      "Epoch  80 | Train Loss: 0.57 | Train Acc: 72.73% | Val Loss: 0.60 | Val Acc: 67.85%\n",
      "Epoch 100 | Train Loss: 0.56 | Train Acc: 73.01% | Val Loss: 0.59 | Val Acc: 69.76%\n",
      "Test Loss: 0.68 | Test Acc: 65.36%\n"
     ]
    }
   ],
   "source": [
    "gat = GATv2(dim_h=32)\n",
    "gat = train(gat, train_loader)\n",
    "test_loss, test_acc = test(gat, test_loader)\n",
    "print(f'Test Loss: {test_loss:.2f} | Test Acc: {test_acc*100:.2f}%')"
   ]
  },
  {
   "cell_type": "code",
   "execution_count": 393,
   "id": "c68a1318",
   "metadata": {},
   "outputs": [
    {
     "data": {
      "image/png": "[encoded data removed]",
      "text/plain": [
       "<Figure size 640x480 with 16 Axes>"
      ]
     },
     "metadata": {},
     "output_type": "display_data"
    }
   ],
   "source": [
    "import numpy as np\n",
    "import matplotlib.pyplot as plt\n",
    "import networkx as nx\n",
    "from torch_geometric.utils import to_networkx\n",
    "\n",
    "fig, ax = plt.subplots(4, 4)\n",
    "fig.suptitle('GCN - Graph classification')\n",
    "\n",
    "for i, data in enumerate(dataset[-16:]):\n",
    "    # Calculate color (green if correct, red otherwise)\n",
    "    out = gcn(data.x, data.edge_index, data.batch)\n",
    "    color = \"green\" if out.argmax(dim=1) == data.y else \"red\"\n",
    "\n",
    "    # Plot graph\n",
    "    ix = np.unravel_index(i, ax.shape)\n",
    "    ax[ix].axis('off')\n",
    "    G = to_networkx(dataset[i], to_undirected=True)\n",
    "    nx.draw_networkx(G,\n",
    "                    pos=nx.spring_layout(G, seed=0),\n",
    "                    with_labels=False,\n",
    "                    node_size=10,\n",
    "                    node_color=color,\n",
    "                    width=0.8,\n",
    "                    ax=ax[ix]\n",
    "                    )"
   ]
  },
  {
   "cell_type": "code",
   "execution_count": 59,
   "id": "fbad0072",
   "metadata": {},
   "outputs": [
    {
     "data": {
      "image/png": "[encoded data removed]",
      "text/plain": [
       "<Figure size 640x480 with 16 Axes>"
      ]
     },
     "metadata": {},
     "output_type": "display_data"
    }
   ],
   "source": [
    "fig, ax = plt.subplots(4, 4)\n",
    "fig.suptitle('GIN - Graph classification')\n",
    "\n",
    "for i, data in enumerate(dataset[-16:]):\n",
    "    # Calculate color (green if correct, red otherwise)\n",
    "    out = gin(data.x, data.edge_index, data.batch)\n",
    "    color = \"green\" if out.argmax(dim=1) == data.y else \"red\"\n",
    "\n",
    "    # Plot graph\n",
    "    ix = np.unravel_index(i, ax.shape)\n",
    "    ax[ix].axis('off')\n",
    "    G = to_networkx(dataset[i], to_undirected=True)\n",
    "    nx.draw_networkx(G,\n",
    "                    pos=nx.spring_layout(G, seed=0),\n",
    "                    with_labels=False,\n",
    "                    node_size=10,\n",
    "                    node_color=color,\n",
    "                    width=0.8,\n",
    "                    ax=ax[ix]\n",
    "                    )"
   ]
  },
  {
   "cell_type": "code",
   "execution_count": 154,
   "id": "9766b70e",
   "metadata": {},
   "outputs": [
    {
     "name": "stdout",
     "output_type": "stream",
     "text": [
      "GCN accuracy:     69.01%\n",
      "GIN accuracy:     69.79%\n",
      "GCN+GIN accuracy: 71.09%\n",
      "GAT accuracy: 62.50%\n"
     ]
    }
   ],
   "source": [
    "gcn.eval()\n",
    "gin.eval()\n",
    "gat.eval()\n",
    "acc_gcn = 0\n",
    "acc_gin = 0\n",
    "acc_ens = 0\n",
    "acc_gat = 0\n",
    "\n",
    "for data in test_loader:\n",
    "    # Get classifications\n",
    "    out_gcn = gcn(data.x, data.edge_index, data.batch)\n",
    "    out_gin = gin(data.x, data.edge_index, data.batch)\n",
    "    out_gat = gat(data.x, data.edge_index, data.batch)\n",
    "    out_ens = (out_gcn + out_gin)/2\n",
    "\n",
    "    # Calculate accuracy scores\n",
    "    acc_gcn += accuracy(out_gcn.argmax(dim=1), data.y) / len(test_loader)\n",
    "    acc_gin += accuracy(out_gin.argmax(dim=1), data.y) / len(test_loader)\n",
    "    acc_ens += accuracy(out_ens.argmax(dim=1), data.y) / len(test_loader)\n",
    "    acc_gat += accuracy(out_gat.argmax(dim=1), data.y) / len(test_loader)\n",
    "\n",
    "# Print results\n",
    "print(f'GCN accuracy:     {acc_gcn*100:.2f}%')\n",
    "print(f'GIN accuracy:     {acc_gin*100:.2f}%')\n",
    "print(f'GCN+GIN accuracy: {acc_ens*100:.2f}%')\n",
    "print(f'GAT accuracy: {acc_gat*100:.2f}%')"
   ]
  },
  {
   "cell_type": "markdown",
   "id": "eecce81a",
   "metadata": {},
   "source": [
    "# Signed Weighted Graphs"
   ]
  },
  {
   "cell_type": "code",
   "execution_count": 7,
   "id": "39742308",
   "metadata": {},
   "outputs": [],
   "source": [
    "import pandas as pd\n",
    "from glob import glob"
   ]
  },
  {
   "cell_type": "code",
   "execution_count": 10,
   "id": "eb8ff172",
   "metadata": {},
   "outputs": [],
   "source": [
    "import sys"
   ]
  },
  {
   "cell_type": "code",
   "execution_count": 25,
   "id": "64008f4e",
   "metadata": {},
   "outputs": [],
   "source": [
    "import torch\n",
    "import torch.nn as nn\n",
    "import torch.nn.functional as F\n",
    "#import dgl\n",
    "#from dgl.nn.pytorch import JumpingKnowledge, SAGEConv, SortPooling\n",
    "#import dgl.function as fn\n",
    "#from dgl.nn.functional import edge_softmax\n",
    "import torchmetrics.classification as tc\n",
    "import pandas as pd\n",
    "import numpy as np\n",
    "import csv\n",
    "\n",
    "import torch.optim as optim\n",
    "from torch.utils.data import DataLoader, Dataset"
   ]
  },
  {
   "cell_type": "code",
   "execution_count": 16,
   "id": "da5ff5a5",
   "metadata": {},
   "outputs": [],
   "source": [
    "from os.path import join"
   ]
  },
  {
   "cell_type": "code",
   "execution_count": 22,
   "id": "c3ead2b9",
   "metadata": {},
   "outputs": [],
   "source": [
    "directory = 'signed_weighted_graph_classification'\n",
    "file1 = 'Graph_ctrl_crc1.csv'\n",
    "file2 = 'Graph_case_crc1.csv'"
   ]
  },
  {
   "cell_type": "code",
   "execution_count": 76,
   "id": "12a9af68",
   "metadata": {},
   "outputs": [],
   "source": [
    "!mkdir test_data_dir\n",
    "%cd test_data_dir\n",
    "!wget https://media.githubusercontent.com/media/panshuheng/WSGMB/refs/heads/master/Graph_ctrl_crc1.csv\n",
    "!wget https://media.githubusercontent.com/media/panshuheng/WSGMB/refs/heads/master/Graph_ctrl_crc2.csv\n",
    "!wget https://media.githubusercontent.com/media/panshuheng/WSGMB/refs/heads/master/Graph_ctrl_crc3.csv\n",
    "!wget https://media.githubusercontent.com/media/panshuheng/WSGMB/refs/heads/master/Graph_case_crc1.csv\n",
    "!wget https://media.githubusercontent.com/media/panshuheng/WSGMB/refs/heads/master/Graph_case_crc2.csv\n",
    "!wget https://media.githubusercontent.com/media/panshuheng/WSGMB/refs/heads/master/Graph_case_crc3.csv"
   ]
  },
  {
   "cell_type": "code",
   "execution_count": 423,
   "id": "280fd0e1",
   "metadata": {},
   "outputs": [],
   "source": [
    "def get_data(csv_path, label):\n",
    "    df = pd.read_csv(csv_path)\n",
    "    grouped = df.groupby('graph_id').agg({'source':list, 'target':list,'weight':list})\n",
    "    \n",
    "    res = []\n",
    "    for i, row in grouped.iterrows():\n",
    "        edge_index = torch.Tensor([row['source'], row['target']]).to(torch.int64)\n",
    "        edge_weight =torch.Tensor(row['weight'])\n",
    "        num_nodes = len(set(row['source']+row['target']))\n",
    "        y = label\n",
    "        x = torch.ones(size=(num_nodes,1))\n",
    "        # x = torch.arange(num_nodes)\n",
    "        data = Data(x=x, edge_index=edge_index, y=y)\n",
    "        \n",
    "        #data.num_nodes = num_nodes\n",
    "        data.edge_weight = edge_weight\n",
    "        res.append(data)\n",
    "    return res"
   ]
  },
  {
   "cell_type": "code",
   "execution_count": 424,
   "id": "630de566",
   "metadata": {},
   "outputs": [],
   "source": [
    "def get_all_graphs(paths):\n",
    "        data_list = []\n",
    "        idx = 0\n",
    "        \n",
    "        for path in paths:\n",
    "            data_list += get_data(path, idx)\n",
    "            idx +=1\n",
    "        \n",
    "        return data_list"
   ]
  },
  {
   "cell_type": "code",
   "execution_count": 425,
   "id": "7f0668ae",
   "metadata": {},
   "outputs": [],
   "source": [
    "paths = ['signed_weighted_graph_classification/Graph_ctrl_crc1.csv',\n",
    "         'signed_weighted_graph_classification/Graph_case_crc1.csv' ]"
   ]
  },
  {
   "cell_type": "code",
   "execution_count": 426,
   "id": "465f728e",
   "metadata": {},
   "outputs": [],
   "source": [
    "from torch_geometric.data import Data\n",
    "from torch_geometric.loader import DataLoader\n",
    "\n",
    "data_list = get_all_graphs(paths)\n",
    "                              \n",
    "#loader = DataLoader(data_list, batch_size=32, shuffle=True)"
   ]
  },
  {
   "cell_type": "code",
   "execution_count": 467,
   "id": "397eab1e",
   "metadata": {},
   "outputs": [
    {
     "name": "stdout",
     "output_type": "stream",
     "text": [
      "Training set   = 800 graphs\n",
      "Validation set = 100 graphs\n",
      "Test set       = 100 graphs\n"
     ]
    }
   ],
   "source": [
    "train_dataset = data_list[:int(len(data_list)*0.8)]\n",
    "val_dataset   = data_list[int(len(data_list)*0.8):int(len(data_list)*0.9)]\n",
    "test_dataset  = data_list[int(len(data_list)*0.9):]\n",
    "\n",
    "\n",
    "print(f'Training set   = {len(train_dataset)} graphs')\n",
    "print(f'Validation set = {len(val_dataset)} graphs')\n",
    "print(f'Test set       = {len(test_dataset)} graphs')\n",
    "\n",
    "# Create mini-batches\n",
    "train_loader = DataLoader(train_dataset, batch_size=16, shuffle=True)\n",
    "val_loader   = DataLoader(val_dataset, batch_size=16, shuffle=True)\n",
    "test_loader  = DataLoader(test_dataset, batch_size=16, shuffle=True)"
   ]
  },
  {
   "cell_type": "code",
   "execution_count": 472,
   "id": "cc809be2",
   "metadata": {},
   "outputs": [],
   "source": [
    "from torch_geometric.nn import RGATConv\n",
    "\n",
    "class GATClassifier(torch.nn.Module):\n",
    "    def __init__(self, in_dim, dim_h):\n",
    "        super(GATClassifier, self).__init__()\n",
    "        self.conv1 = GATConv(in_dim, dim_h, heads=1)\n",
    "        self.conv2 = GATConv(dim_h, dim_h, heads=1)\n",
    "        self.conv3 = GATConv(dim_h, dim_h, heads=1)\n",
    "        self.lin = Linear(dim_h, dataset.num_classes)\n",
    "\n",
    "    def forward(self, x, edge_index, edge_attr, batch):\n",
    "        # Node embeddings \n",
    "        h = self.conv1(x, edge_index, edge_attr)\n",
    "        h = h.relu()\n",
    "        h = self.conv2(h, edge_index, edge_attr)\n",
    "        h = h.relu()\n",
    "        h = self.conv3(h, edge_index, edge_attr)\n",
    "\n",
    "        # Graph-level readout\n",
    "        hG = global_mean_pool(h, batch)\n",
    "\n",
    "        # Classifier\n",
    "        h = F.dropout(hG, p=0.5, training=self.training)\n",
    "        h = self.lin(h)\n",
    "        \n",
    "        return F.log_softmax(h, dim=1)"
   ]
  },
  {
   "cell_type": "code",
   "execution_count": 473,
   "id": "f9c276b8",
   "metadata": {},
   "outputs": [],
   "source": [
    "class DirGATConv(torch.nn.Module):\n",
    "    def __init__(self, input_dim, output_dim, heads, alpha):\n",
    "        super(DirGATConv, self).__init__()\n",
    "\n",
    "        self.input_dim = input_dim\n",
    "        self.output_dim = output_dim\n",
    "\n",
    "        self.conv_src_to_dst = GATConv(input_dim, output_dim, heads=heads)\n",
    "        self.conv_dst_to_src = GATConv(input_dim, output_dim, heads=heads)\n",
    "        self.alpha = alpha\n",
    "\n",
    "    def forward(self, x, edge_index, edge_attr):\n",
    "        edge_index_t = torch.stack([edge_index[1], edge_index[0]], dim=0)\n",
    "\n",
    "        return (1 - self.alpha) * self.conv_src_to_dst(x, edge_index, edge_attr) + self.alpha * self.conv_dst_to_src(\n",
    "            x, edge_index_t, edge_attr\n",
    "        )"
   ]
  },
  {
   "cell_type": "code",
   "execution_count": 474,
   "id": "974978d3",
   "metadata": {},
   "outputs": [],
   "source": [
    "def train(model, loader,device):\n",
    "    criterion = torch.nn.NLLLoss()\n",
    "    optimizer = torch.optim.Adam(model.parameters(), lr=0.01)\n",
    "    epochs = 100\n",
    "\n",
    "    model.train()\n",
    "    for epoch in range(epochs+1):\n",
    "        total_loss = 0\n",
    "        acc = 0\n",
    "        val_loss = 0\n",
    "        val_acc = 0\n",
    "\n",
    "        # Train on batches\n",
    "        for data in loader:\n",
    "            data = data.to(device)\n",
    "            optimizer.zero_grad()\n",
    "            out = model(data.x, data.edge_index, data.edge_weight, data.batch)\n",
    "            \n",
    "            loss = criterion(out, data.y)\n",
    "            total_loss += loss / len(loader)\n",
    "            acc += accuracy(out.argmax(dim=1), data.y) / len(loader)\n",
    "            loss.backward()\n",
    "            optimizer.step()\n",
    "\n",
    "            # Validation\n",
    "            val_loss, val_acc = test(model, val_loader,device)\n",
    "\n",
    "        # Print metrics every 20 epochs\n",
    "        if(epoch % 20 == 0):\n",
    "            print(f'Epoch {epoch:>3} | Train Loss: {total_loss:.2f} | Train Acc: {acc*100:>5.2f}% | Val Loss: {val_loss:.2f} | Val Acc: {val_acc*100:.2f}%')\n",
    "            \n",
    "    return model"
   ]
  },
  {
   "cell_type": "code",
   "execution_count": 475,
   "id": "9ca9a2bf",
   "metadata": {},
   "outputs": [],
   "source": [
    "@torch.no_grad()\n",
    "def test(model, loader,device):\n",
    "    criterion = torch.nn.NLLLoss()\n",
    "    model.eval()\n",
    "    loss = 0\n",
    "    acc = 0\n",
    "\n",
    "    for data in loader:\n",
    "        data = data.to(device)\n",
    "        out = model(data.x, data.edge_index, data.edge_weight, data.batch)\n",
    "        loss += criterion(out, data.y) / len(loader)\n",
    "        acc += accuracy(out.argmax(dim=1), data.y) / len(loader)\n",
    "\n",
    "    return loss, acc\n",
    "\n",
    "def accuracy(pred_y, y):\n",
    "    \"\"\"Calculate accuracy.\"\"\"\n",
    "    return ((pred_y == y).sum() / len(y)).item()\n"
   ]
  },
  {
   "cell_type": "code",
   "execution_count": 476,
   "id": "7beb1c6e",
   "metadata": {},
   "outputs": [
    {
     "name": "stdout",
     "output_type": "stream",
     "text": [
      "Epoch   0 | Train Loss: 0.67 | Train Acc: 61.25% | Val Loss: 0.92 | Val Acc: 0.00%\n",
      "Epoch  20 | Train Loss: 0.66 | Train Acc: 62.50% | Val Loss: 1.00 | Val Acc: 0.00%\n",
      "Epoch  40 | Train Loss: 0.66 | Train Acc: 62.50% | Val Loss: 0.97 | Val Acc: 0.00%\n",
      "Epoch  60 | Train Loss: 0.66 | Train Acc: 62.50% | Val Loss: 0.97 | Val Acc: 0.00%\n",
      "Epoch  80 | Train Loss: 0.67 | Train Acc: 62.50% | Val Loss: 0.98 | Val Acc: 0.00%\n",
      "Epoch 100 | Train Loss: 0.66 | Train Acc: 62.50% | Val Loss: 1.05 | Val Acc: 0.00%\n",
      "Test Loss: 1.05 | Test Acc: 0.00%\n"
     ]
    }
   ],
   "source": [
    "device = 'cuda' if torch.cuda.is_available() else 'cpu'\n",
    "gat = GATClassifier(in_dim = 1, dim_h=32)\n",
    "gat = gat.to(device)\n",
    "\n",
    "gat = train(gat, train_loader, device)\n",
    "test_loss, test_acc = test(gat, test_loader, device)\n",
    "print(f'Test Loss: {test_loss:.2f} | Test Acc: {test_acc*100:.2f}%')"
   ]
  },
  {
   "cell_type": "code",
   "execution_count": null,
   "id": "3e3c1674",
   "metadata": {},
   "outputs": [],
   "source": []
  }
 ],
 "metadata": {
  "kernelspec": {
   "display_name": "thesis",
   "language": "python",
   "name": "thesis"
  },
  "language_info": {
   "codemirror_mode": {
    "name": "ipython",
    "version": 3
   },
   "file_extension": ".py",
   "mimetype": "text/x-python",
   "name": "python",
   "nbconvert_exporter": "python",
   "pygments_lexer": "ipython3",
   "version": "3.10.12"
  }
 },
 "nbformat": 4,
 "nbformat_minor": 5
}

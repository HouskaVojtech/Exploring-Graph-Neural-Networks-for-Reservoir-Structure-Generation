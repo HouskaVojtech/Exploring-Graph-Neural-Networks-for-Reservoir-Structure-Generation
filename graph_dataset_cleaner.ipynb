{
 "cells": [
  {
   "cell_type": "code",
   "execution_count": 1,
   "id": "42cf928d",
   "metadata": {},
   "outputs": [],
   "source": [
    "from ESN_model import *\n",
    "import matplotlib.pyplot as plt"
   ]
  },
  {
   "cell_type": "code",
   "execution_count": 2,
   "id": "9785a1ba",
   "metadata": {},
   "outputs": [],
   "source": [
    "import torch\n",
    "from torch_geometric.utils import to_dense_adj\n",
    "from torch_geometric.data import Data\n",
    "from torch_geometric.loader import DataLoader"
   ]
  },
  {
   "cell_type": "code",
   "execution_count": 3,
   "id": "953d1a30",
   "metadata": {},
   "outputs": [],
   "source": [
    "from glob import glob\n",
    "import pickle\n",
    "import os.path as osp"
   ]
  },
  {
   "cell_type": "code",
   "execution_count": 4,
   "id": "779fb593",
   "metadata": {},
   "outputs": [],
   "source": [
    "import seaborn as sns"
   ]
  },
  {
   "cell_type": "code",
   "execution_count": 5,
   "id": "827effd8",
   "metadata": {},
   "outputs": [],
   "source": [
    "def get_data(file_path):\n",
    "    with open(file_path, 'rb') as file:\n",
    "        # Serialize and write the variable to the file\n",
    "        data = pickle.load(file)\n",
    "    return data"
   ]
  },
  {
   "cell_type": "code",
   "execution_count": 6,
   "id": "a4defcf6",
   "metadata": {},
   "outputs": [],
   "source": [
    "def load_single(file_path, display=False, percentile = 0):\n",
    "    data = get_data(file_path)\n",
    "    rmse = data['mean_rmse']\n",
    "    \n",
    "    if percentile:\n",
    "        percentile_value = np.percentile(rmse,percentile)\n",
    "\n",
    "        mask = data['mean_rmse'] < percentile_value\n",
    "    else:\n",
    "        mask = np.ones(len(rmse),dtype=bool)\n",
    "    \n",
    "    if display:\n",
    "        sns.histplot(rmse, bins=30, kde=True )\n",
    "        plt.axvline(percentile_value,color='orange')\n",
    "\n",
    "        plt.show()\n",
    "        \n",
    "    reservoir = np.array(data['reservoir'])[mask] \n",
    "    w_in = np.array(data['w_in'])[mask]\n",
    "    sparsity = np.array(data['sparsity'])[mask] \n",
    "    sparsity_mask = np.array(data['sparsity_mask'])[mask]\n",
    "    feature_vectors = np.array(data['feature_vectors'])[mask] \n",
    "    \n",
    "    return reservoir, w_in, sparsity, sparsity_mask, feature_vectors, rmse"
   ]
  },
  {
   "cell_type": "code",
   "execution_count": 7,
   "id": "7821d21d",
   "metadata": {},
   "outputs": [],
   "source": [
    "def load_all(root_dir):\n",
    "    paths = glob(osp.join(root_dir,'*.pickle'))\n",
    "    all_data = get_data(paths[0])\n",
    "    for idx, path in enumerate(paths[1:]):\n",
    "        data = get_data(path)\n",
    "        for key in all_data.keys():\n",
    "            all_data[key] += data[key]\n",
    "                \n",
    "    return all_data\n",
    "        "
   ]
  },
  {
   "cell_type": "code",
   "execution_count": 8,
   "id": "2f530dbf",
   "metadata": {},
   "outputs": [],
   "source": [
    "def select_the_best(data, percentile):\n",
    "    \"\"\"\n",
    "        Returns mask for the ESNs with the best performance based on the passed percentile\n",
    "    \"\"\"\n",
    "    if percentile != 0:\n",
    "        threshold = np.percentile(data['mean_rmse'], percentile)\n",
    "        mask = data['mean_rmse'] < threshold\n",
    "    else:\n",
    "        mask = np.ones(len(data['mean_rmse']),dtype=bool)\n",
    "    return mask"
   ]
  },
  {
   "cell_type": "markdown",
   "id": "a20f3038",
   "metadata": {},
   "source": [
    "# For the graph"
   ]
  },
  {
   "cell_type": "code",
   "execution_count": 9,
   "id": "ae57bf71",
   "metadata": {},
   "outputs": [],
   "source": [
    "def make_adjacency_matrix(w_res, w_in):\n",
    "    n_input_neurons = w_in.shape[1]\n",
    "    zeros = np.zeros((n_input_neurons,n_input_neurons))\n",
    "    adj_w_in = np.hstack([zeros, w_in.T])\n",
    "    \n",
    "    n_reservoir_neurons = w_res.shape[0]\n",
    "    \n",
    "    zeros_w_res = np.zeros((n_reservoir_neurons, n_input_neurons))\n",
    "    adj_w_res = np.hstack([zeros_w_res, w_res.T])\n",
    "    adj = np.vstack([adj_w_in, adj_w_res])\n",
    "    return adj"
   ]
  },
  {
   "cell_type": "code",
   "execution_count": 10,
   "id": "d9e9c569",
   "metadata": {},
   "outputs": [],
   "source": [
    "def weighted_adj_to_unweighted(adj, epsilon):\n",
    "    negative = adj < -epsilon \n",
    "    positive = adj > epsilon\n",
    "    return np.logical_or(negative, positive)"
   ]
  },
  {
   "cell_type": "code",
   "execution_count": 11,
   "id": "9948e07c",
   "metadata": {},
   "outputs": [],
   "source": [
    "def uw_adj_to_edge_index(adj, symetric = False, remove_self_loops = False):\n",
    "    if remove_self_loops:\n",
    "        adj = np.logical_and(adj, np.logical_not(np.eye(adj.shape[0])))\n",
    "        \n",
    "    if symetric:\n",
    "        arr = np.triu(adj).nonzero()\n",
    "    else:\n",
    "        arr = adj.nonzero()\n",
    "    edge_index = np.array(arr)\n",
    "    return edge_index"
   ]
  },
  {
   "cell_type": "code",
   "execution_count": 12,
   "id": "aa7ddc53",
   "metadata": {},
   "outputs": [],
   "source": [
    "def from_adj_to_edge_weights(edge_index, adj):\n",
    "    edge_attr = []\n",
    "    for i,j in edge_index.T:\n",
    "        edge_attr.append([adj[i,j]])\n",
    "        \n",
    "    return torch.Tensor(edge_attr)"
   ]
  },
  {
   "cell_type": "code",
   "execution_count": 13,
   "id": "98ccf97d",
   "metadata": {},
   "outputs": [],
   "source": [
    "def create_single_datapoint(data_dict, idx, epsilon = 0.0001):\n",
    "    w_res = np.array(data_dict['reservoir'][idx])\n",
    "    w_in = np.array(data_dict['w_in'][idx])\n",
    "    sparsity_mask = np.array(data_dict['sparsity_mask'][idx])\n",
    "    sparsity = np.array(data_dict['sparsity'][idx])\n",
    "    feature_vectors = np.array(data_dict['feature_vectors'][idx])\n",
    "    mrmse = np.array(data_dict['mean_rmse'][idx])\n",
    "    \n",
    "    adj = make_adjacency_matrix(w_res, w_in)\n",
    "    uw_adj = weighted_adj_to_unweighted(adj, epsilon)\n",
    "\n",
    "    edge_index = torch.Tensor(uw_adj_to_edge_index(adj)).to(torch.int64)\n",
    "    \n",
    "    edge_features = from_adj_to_edge_weights(edge_index, adj)\n",
    "\n",
    "    y = torch.Tensor(adj)\n",
    "    x = torch.Tensor(feature_vectors)\n",
    "\n",
    "    data = Data(x=x, edge_index=edge_index, edge_attr=edge_features, y=y)\n",
    "\n",
    "    data.sparsity_mask = torch.Tensor(sparsity_mask).to(torch.bool)\n",
    "    data.sparsity = sparsity\n",
    "    data.mrmse = torch.Tensor(mrmse).reshape(-1,1)\n",
    "        \n",
    "    return data"
   ]
  },
  {
   "cell_type": "code",
   "execution_count": 14,
   "id": "93125524",
   "metadata": {},
   "outputs": [],
   "source": [
    "#def create_data(w_res, w_in, sparsity_mask, sparsity, feature_vectors, epsilon = 0.0001):\n",
    "#    adj = make_adjacency_matrix(w_res, w_in)\n",
    "#    uw_adj = weighted_adj_to_unweighted(adj, epsilon)\n",
    "#\n",
    "#    edge_index = torch.Tensor(uw_adj_to_edge_index(adj)).to(torch.int64)\n",
    "#    \n",
    "#    #edge_features\n",
    "#\n",
    "#    y = torch.Tensor(adj)\n",
    "#    x = torch.Tensor(feature_vectors)\n",
    "#    #mrmse = torch.Tensor()\n",
    "#\n",
    "#    data = Data(x=x, edge_index=edge_index, y=y)\n",
    "#\n",
    "#    data.sparsity_mask = torch.Tensor(sparsity_mask).to(torch.bool)\n",
    "#    data.sparsity = sparsity\n",
    "#        \n",
    "#    return data"
   ]
  },
  {
   "cell_type": "code",
   "execution_count": 15,
   "id": "e51f6833",
   "metadata": {},
   "outputs": [],
   "source": [
    "def undersample_to_uniform(data, min_count, num_bins=20):\n",
    "    \"\"\"\n",
    "    Undersamples data to approximately follow a uniform distribution.\n",
    "\n",
    "    Args:\n",
    "      data: A pandas Series or numpy array of data.\n",
    "      num_bins: The number of bins to divide the data into.\n",
    "\n",
    "    Returns:\n",
    "      A numpy array of undersampled data.\n",
    "    \"\"\"\n",
    "    # Bin the data\n",
    "    binned_data, bin_edges = np.histogram(data, bins=num_bins)\n",
    "    \n",
    "    # Undersample\n",
    "    all_indices = []\n",
    "    undersampled_data = []\n",
    "    for i in range(num_bins):\n",
    "        # Get the indices of the data points in the current bin\n",
    "        indices = np.where((data >= bin_edges[i]) & (data < bin_edges[i+1]))[0]\n",
    "        # Randomly sample min_count indices from the current bin\n",
    "        \n",
    "        ln = len(indices) \n",
    "        \n",
    "        if 0 < ln < min_count: \n",
    "            all_indices += indices.tolist()\n",
    "        elif 0 < ln:  # Ensure the bin is not empty\n",
    "            sampled_indices = np.random.choice(indices, size=min_count, replace=False)\n",
    "            all_indices += sampled_indices.tolist()\n",
    "\n",
    "    return np.array(all_indices, dtype=int)"
   ]
  },
  {
   "cell_type": "code",
   "execution_count": 16,
   "id": "fa191cf2",
   "metadata": {},
   "outputs": [],
   "source": [
    "def balance_to_uniform(data, min_count, num_bins=20):\n",
    "    \"\"\"\n",
    "    Undersamples data to approximately follow a uniform distribution.\n",
    "\n",
    "    Args:\n",
    "      data: A pandas Series or numpy array of data.\n",
    "      num_bins: The number of bins to divide the data into.\n",
    "\n",
    "    Returns:\n",
    "      A numpy array of undersampled data.\n",
    "    \"\"\"\n",
    "    # Bin the data\n",
    "    binned_data, bin_edges = np.histogram(data, bins=num_bins)\n",
    "    \n",
    "    # Undersample\n",
    "    all_indices = []\n",
    "    undersampled_data = []\n",
    "    for i in range(num_bins):\n",
    "        # Get the indices of the data points in the current bin\n",
    "        indices = np.where((data >= bin_edges[i]) & (data < bin_edges[i+1]))[0]\n",
    "        # Randomly sample min_count indices from the current bin\n",
    "        \n",
    "        ln = len(indices) \n",
    "        \n",
    "        if 0 < ln < min_count: \n",
    "            sampled_indices = np.random.choice(indices, size=min_count, replace=True)\n",
    "            all_indices += sampled_indices.tolist()\n",
    "        elif 0 < ln:  # Ensure the bin is not empty\n",
    "            sampled_indices = np.random.choice(indices, size=min_count, replace=False)\n",
    "            all_indices += sampled_indices.tolist()\n",
    "\n",
    "    return np.array(all_indices, dtype=int)"
   ]
  },
  {
   "cell_type": "code",
   "execution_count": 39,
   "id": "119a74cb",
   "metadata": {},
   "outputs": [],
   "source": [
    "def create_data_list(root_dir, percentile, epsilon = 0.0001, min_count=None, n_bins=50):\n",
    "    all_data = load_all(root_dir)\n",
    "    mask = select_the_best(all_data, percentile)\n",
    "    \n",
    "    undersample_indeces = []\n",
    "    \n",
    "    if min_count:\n",
    "        undersample_indeces = balance_to_uniform(all_data['mean_rmse'], min_count, n_bins)\n",
    "    \n",
    "    indeces = []\n",
    "    if min_count == None:\n",
    "        indeces = np.where(mask == True)[0]\n",
    "    \n",
    "    if min_count:\n",
    "        unique_indeces = np.array(undersample_indeces).astype(int)\n",
    "    else:\n",
    "        unique_indeces = indeces\n",
    "    \n",
    "    data_list = []\n",
    "    for idx in unique_indeces:\n",
    "        data = create_single_datapoint(all_data,idx)\n",
    "        data_list.append(data)\n",
    "    return data_list\n",
    "    "
   ]
  },
  {
   "cell_type": "code",
   "execution_count": 16,
   "id": "bebf85db",
   "metadata": {},
   "outputs": [],
   "source": [
    "#def create_data_list(root_dir, percentile, epsilon = 0.0001):\n",
    "#    all_data = load_all(root_dir)\n",
    "#    mask = select_the_best(all_data, percentile)\n",
    "#    \n",
    "#    reservoirs = np.array(all_data['reservoir'])\n",
    "#    w_ins = np.array(all_data['w_in'])\n",
    "#    sparsity_masks = np.array(all_data['sparsity_mask'])\n",
    "#    sparsities = np.array(all_data['sparsity'])\n",
    "#    feature_vectors = np.array(all_data['feature_vectors'])\n",
    "#    \n",
    "#    indeces = np.where(mask == True)[0]\n",
    "#    \n",
    "#    data_list = []\n",
    "#    for idx in indeces:\n",
    "#        data = create_data(reservoirs[idx],\n",
    "#                           w_ins[idx],\n",
    "#                           sparsity_masks[idx],\n",
    "#                           sparsities[idx],\n",
    "#                           feature_vectors[idx],\n",
    "#                           epsilon)\n",
    "#        data_list.append(data)\n",
    "#    return data_list\n",
    "    "
   ]
  },
  {
   "cell_type": "code",
   "execution_count": 42,
   "id": "c40528a7",
   "metadata": {},
   "outputs": [],
   "source": [
    "data_list = create_data_list('reservoir_data/res_23_more_info/',percentile=0,min_count=1000)\n",
    "\n"
   ]
  },
  {
   "cell_type": "code",
   "execution_count": 43,
   "id": "85827d18",
   "metadata": {},
   "outputs": [],
   "source": [
    "with open('reservoir_data/graph_regression/data_list_res23_balanced.pkl', 'wb') as file:\n",
    "    pickle.dump(data_list, file)"
   ]
  },
  {
   "cell_type": "markdown",
   "id": "fde7482a",
   "metadata": {},
   "source": [
    "# Garbage"
   ]
  },
  {
   "cell_type": "code",
   "execution_count": null,
   "id": "3f7683b7",
   "metadata": {},
   "outputs": [],
   "source": [
    "def get_data(file_path):\n",
    "    with open(file_path, 'rb') as file:\n",
    "        # Serialize and write the variable to the file\n",
    "        data = pickle.load(file)\n",
    "    return data"
   ]
  },
  {
   "cell_type": "code",
   "execution_count": 42,
   "id": "04c2cf7a",
   "metadata": {},
   "outputs": [
    {
     "data": {
      "text/plain": [
       "array([0, 1, 2, 3, 4])"
      ]
     },
     "execution_count": 42,
     "metadata": {},
     "output_type": "execute_result"
    }
   ],
   "source": [
    "arr =np.arange(5)\n",
    "arr"
   ]
  },
  {
   "cell_type": "code",
   "execution_count": 45,
   "id": "d1491a33",
   "metadata": {},
   "outputs": [
    {
     "data": {
      "text/plain": [
       "array([2, 2, 2, 2, 2])"
      ]
     },
     "execution_count": 45,
     "metadata": {},
     "output_type": "execute_result"
    }
   ],
   "source": [
    "arr[[2,2,2,2,2]]"
   ]
  },
  {
   "cell_type": "code",
   "execution_count": 48,
   "id": "c13ab7ca",
   "metadata": {},
   "outputs": [],
   "source": [
    "indeces = np.random.choice(arr, size=10, replace=True)"
   ]
  },
  {
   "cell_type": "code",
   "execution_count": 49,
   "id": "afc589b9",
   "metadata": {},
   "outputs": [
    {
     "data": {
      "text/plain": [
       "array([4, 0, 1, 1, 3, 2, 3, 2, 0, 1])"
      ]
     },
     "execution_count": 49,
     "metadata": {},
     "output_type": "execute_result"
    }
   ],
   "source": [
    "arr[indeces]"
   ]
  },
  {
   "cell_type": "code",
   "execution_count": 36,
   "id": "e942e3b7",
   "metadata": {},
   "outputs": [],
   "source": [
    "data_list = create_data_list('reservoir_data/res_30_more_info/',percentile=0,min_count=1000)"
   ]
  },
  {
   "cell_type": "code",
   "execution_count": 25,
   "id": "af441865",
   "metadata": {},
   "outputs": [],
   "source": [
    "all_data = load_all('reservoir_data/res_16_more_info/')\n"
   ]
  },
  {
   "cell_type": "code",
   "execution_count": 54,
   "id": "b5a805a5",
   "metadata": {},
   "outputs": [],
   "source": [
    "undersample_indeces = balance_to_uniform(all_data['mean_rmse'], 1000, 50)\n"
   ]
  },
  {
   "cell_type": "code",
   "execution_count": 55,
   "id": "22d8b985",
   "metadata": {},
   "outputs": [
    {
     "data": {
      "image/png": "[encoded data removed]",
      "text/plain": [
       "<Figure size 640x480 with 1 Axes>"
      ]
     },
     "metadata": {},
     "output_type": "display_data"
    }
   ],
   "source": [
    "sns.histplot(np.array(all_data['mean_rmse'])[undersample_indeces],bins=30,kde=True)\n",
    "plt.show()"
   ]
  },
  {
   "cell_type": "code",
   "execution_count": 29,
   "id": "21e61573",
   "metadata": {},
   "outputs": [
    {
     "data": {
      "text/plain": [
       "1.0"
      ]
     },
     "execution_count": 29,
     "metadata": {},
     "output_type": "execute_result"
    }
   ],
   "source": [
    "import numpy as np\n",
    "a = np.arange(5)\n",
    "hist, bin_edges = np.histogram(a, density=True)\n",
    "hist\n",
    "hist.sum()\n",
    "np.sum(hist * np.diff(bin_edges))"
   ]
  },
  {
   "cell_type": "code",
   "execution_count": 33,
   "id": "d9e62d82",
   "metadata": {},
   "outputs": [
    {
     "ename": "NameError",
     "evalue": "name 'values' is not defined",
     "output_type": "error",
     "traceback": [
      "\u001b[0;31m---------------------------------------------------------------------------\u001b[0m",
      "\u001b[0;31mNameError\u001b[0m                                 Traceback (most recent call last)",
      "Cell \u001b[0;32mIn[33], line 15\u001b[0m\n\u001b[1;32m      9\u001b[0m value_series \u001b[38;5;241m=\u001b[39m pd\u001b[38;5;241m.\u001b[39mSeries(np\u001b[38;5;241m.\u001b[39mrandom\u001b[38;5;241m.\u001b[39mnormal(loc\u001b[38;5;241m=\u001b[39m\u001b[38;5;241m0\u001b[39m, scale\u001b[38;5;241m=\u001b[39m\u001b[38;5;241m1\u001b[39m, size\u001b[38;5;241m=\u001b[39m\u001b[38;5;241m1000\u001b[39m))\n\u001b[1;32m     12\u001b[0m \u001b[38;5;66;03m# --- Transformations and Visualization ---\u001b[39;00m\n\u001b[1;32m     13\u001b[0m              \n\u001b[1;32m     14\u001b[0m \u001b[38;5;66;03m# Apply undersampling\u001b[39;00m\n\u001b[0;32m---> 15\u001b[0m undersampled_data \u001b[38;5;241m=\u001b[39m \u001b[43mundersample_to_uniform\u001b[49m\u001b[43m(\u001b[49m\u001b[43mvalue_series\u001b[49m\u001b[43m,\u001b[49m\u001b[43m \u001b[49m\u001b[43mmin_count\u001b[49m\u001b[38;5;241;43m=\u001b[39;49m\u001b[38;5;241;43m1000\u001b[39;49m\u001b[43m,\u001b[49m\u001b[43m \u001b[49m\u001b[43mnum_bins\u001b[49m\u001b[38;5;241;43m=\u001b[39;49m\u001b[38;5;241;43m20\u001b[39;49m\u001b[43m)\u001b[49m\n\u001b[1;32m     17\u001b[0m sns\u001b[38;5;241m.\u001b[39mhistplot(value_series, bins\u001b[38;5;241m=\u001b[39m\u001b[38;5;241m30\u001b[39m)\n\u001b[1;32m     18\u001b[0m plt\u001b[38;5;241m.\u001b[39mshow()\n",
      "Cell \u001b[0;32mIn[23], line 13\u001b[0m, in \u001b[0;36mundersample_to_uniform\u001b[0;34m(data, min_count, num_bins)\u001b[0m\n\u001b[1;32m      2\u001b[0m \u001b[38;5;250m\u001b[39m\u001b[38;5;124;03m\"\"\"\u001b[39;00m\n\u001b[1;32m      3\u001b[0m \u001b[38;5;124;03mUndersamples data to approximately follow a uniform distribution.\u001b[39;00m\n\u001b[1;32m      4\u001b[0m \n\u001b[0;32m   (...)\u001b[0m\n\u001b[1;32m     10\u001b[0m \u001b[38;5;124;03m  A numpy array of undersampled data.\u001b[39;00m\n\u001b[1;32m     11\u001b[0m \u001b[38;5;124;03m\"\"\"\u001b[39;00m\n\u001b[1;32m     12\u001b[0m \u001b[38;5;66;03m# Bin the data\u001b[39;00m\n\u001b[0;32m---> 13\u001b[0m binned_data, bin_edges \u001b[38;5;241m=\u001b[39m np\u001b[38;5;241m.\u001b[39mhistogram(\u001b[43mvalues\u001b[49m, bins\u001b[38;5;241m=\u001b[39mnum_bins)\n\u001b[1;32m     15\u001b[0m \u001b[38;5;66;03m# Undersample\u001b[39;00m\n\u001b[1;32m     16\u001b[0m all_indices \u001b[38;5;241m=\u001b[39m []\n",
      "\u001b[0;31mNameError\u001b[0m: name 'values' is not defined"
     ]
    }
   ],
   "source": [
    "import numpy as np\n",
    "import pandas as pd\n",
    "from scipy.stats import norm\n",
    "import seaborn as sns\n",
    "import matplotlib.pyplot as plt\n",
    "\n",
    "# Assuming value_series is defined as follows.\n",
    "# Replace this with your actual data if needed.\n",
    "value_series = pd.Series(np.random.normal(loc=0, scale=1, size=1000))\n",
    "\n",
    "\n",
    "# --- Transformations and Visualization ---\n",
    "             \n",
    "# Apply undersampling\n",
    "undersampled_data = undersample_to_uniform(value_series, min_count=1000, num_bins=20)\n",
    "\n",
    "sns.histplot(value_series, bins=30)\n",
    "plt.show()\n",
    "\n",
    "# 1. Histogram of original data\n",
    "sns.histplot(undersampled_data, bins=30)\n",
    "plt.show()"
   ]
  },
  {
   "cell_type": "code",
   "execution_count": 9,
   "id": "ffc96b9c",
   "metadata": {},
   "outputs": [
    {
     "ename": "TypeError",
     "evalue": "'numpy.ndarray' object is not callable",
     "output_type": "error",
     "traceback": [
      "\u001b[0;31m---------------------------------------------------------------------------\u001b[0m",
      "\u001b[0;31mTypeError\u001b[0m                                 Traceback (most recent call last)",
      "Cell \u001b[0;32mIn[9], line 1\u001b[0m\n\u001b[0;32m----> 1\u001b[0m value_series \u001b[38;5;241m=\u001b[39m \u001b[43mpd\u001b[49m\u001b[38;5;241;43m.\u001b[39;49m\u001b[43mSeries\u001b[49m\u001b[43m(\u001b[49m\u001b[43mnp\u001b[49m\u001b[38;5;241;43m.\u001b[39;49m\u001b[43mrandom\u001b[49m\u001b[38;5;241;43m.\u001b[39;49m\u001b[43mnormal\u001b[49m\u001b[43m(\u001b[49m\u001b[43mloc\u001b[49m\u001b[38;5;241;43m=\u001b[39;49m\u001b[38;5;241;43m0\u001b[39;49m\u001b[43m,\u001b[49m\u001b[43m \u001b[49m\u001b[43mscale\u001b[49m\u001b[38;5;241;43m=\u001b[39;49m\u001b[38;5;241;43m1\u001b[39;49m\u001b[43m,\u001b[49m\u001b[43m \u001b[49m\u001b[43msize\u001b[49m\u001b[38;5;241;43m=\u001b[39;49m\u001b[38;5;241;43m1000\u001b[39;49m\u001b[43m)\u001b[49m\u001b[43m)\u001b[49m\u001b[38;5;241;43m.\u001b[39;49m\u001b[43mvalues\u001b[49m\u001b[43m(\u001b[49m\u001b[43m)\u001b[49m\n",
      "\u001b[0;31mTypeError\u001b[0m: 'numpy.ndarray' object is not callable"
     ]
    }
   ],
   "source": [
    "value_series = pd.Series().values()"
   ]
  },
  {
   "cell_type": "code",
   "execution_count": 96,
   "id": "d1d14f37",
   "metadata": {},
   "outputs": [],
   "source": [
    "size= 60000\n",
    "values = np.random.normal(loc=0, scale=1, size=size)\n",
    "indeces = np.arange(size)\n",
    "data = np.vstack([values,indeces]).T"
   ]
  },
  {
   "cell_type": "code",
   "execution_count": 97,
   "id": "22c6622f",
   "metadata": {},
   "outputs": [
    {
     "data": {
      "text/plain": [
       "<Axes: ylabel='Count'>"
      ]
     },
     "execution_count": 97,
     "metadata": {},
     "output_type": "execute_result"
    },
    {
     "data": {
      "image/png": "[encoded data removed]",
      "text/plain": [
       "<Figure size 640x480 with 1 Axes>"
      ]
     },
     "metadata": {},
     "output_type": "display_data"
    }
   ],
   "source": [
    "sns.histplot(values,bins=50)"
   ]
  },
  {
   "cell_type": "code",
   "execution_count": 116,
   "id": "43d4d974",
   "metadata": {},
   "outputs": [],
   "source": [
    "undersampled_indices = undersample_to_uniform(values, min_count= 1000, num_bins=50)\n"
   ]
  },
  {
   "cell_type": "code",
   "execution_count": 51,
   "id": "02011477",
   "metadata": {},
   "outputs": [
    {
     "data": {
      "text/plain": [
       "array([-4.20264302e+00,  5.08890000e+04])"
      ]
     },
     "execution_count": 51,
     "metadata": {},
     "output_type": "execute_result"
    }
   ],
   "source": [
    "data[50889]"
   ]
  },
  {
   "cell_type": "code",
   "execution_count": 118,
   "id": "dc29431a",
   "metadata": {},
   "outputs": [
    {
     "data": {
      "text/plain": [
       "<Axes: ylabel='Count'>"
      ]
     },
     "execution_count": 118,
     "metadata": {},
     "output_type": "execute_result"
    },
    {
     "data": {
      "image/png": "[encoded data removed]",
      "text/plain": [
       "<Figure size 640x480 with 1 Axes>"
      ]
     },
     "metadata": {},
     "output_type": "display_data"
    }
   ],
   "source": [
    "sns.histplot(data[undersampled_indices][:,0],bins = 50)"
   ]
  },
  {
   "cell_type": "code",
   "execution_count": null,
   "id": "35e8d819",
   "metadata": {},
   "outputs": [],
   "source": []
  }
 ],
 "metadata": {
  "kernelspec": {
   "display_name": "thesis",
   "language": "python",
   "name": "thesis"
  },
  "language_info": {
   "codemirror_mode": {
    "name": "ipython",
    "version": 3
   },
   "file_extension": ".py",
   "mimetype": "text/x-python",
   "name": "python",
   "nbconvert_exporter": "python",
   "pygments_lexer": "ipython3",
   "version": "3.10.12"
  }
 },
 "nbformat": 4,
 "nbformat_minor": 5
}

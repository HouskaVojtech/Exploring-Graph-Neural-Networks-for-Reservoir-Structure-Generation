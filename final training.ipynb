{
 "cells": [
  {
   "cell_type": "code",
   "execution_count": 2,
   "id": "ecee0686",
   "metadata": {},
   "outputs": [],
   "source": [
    "from torch_geometric.loader import DataLoader\n",
    "import pickle\n",
    "from glob import glob"
   ]
  },
  {
   "cell_type": "code",
   "execution_count": 3,
   "id": "47717a93",
   "metadata": {},
   "outputs": [],
   "source": [
    "with open('reservoir_data/data_list.pkl', 'rb') as file:\n",
    "    data_list = pickle.load(file)"
   ]
  },
  {
   "cell_type": "code",
   "execution_count": 4,
   "id": "1d2a7833",
   "metadata": {},
   "outputs": [],
   "source": [
    "dataloader = DataLoader(data_list)"
   ]
  },
  {
   "cell_type": "code",
   "execution_count": 5,
   "id": "4b71f876",
   "metadata": {},
   "outputs": [
    {
     "name": "stdout",
     "output_type": "stream",
     "text": [
      "DataBatch(x=[32, 125], edge_index=[2, 150], y=[32, 32], sparsity_mask=[30, 30], sparsity=[1], batch=[32], ptr=[2])\n"
     ]
    }
   ],
   "source": [
    "for data in dataloader:\n",
    "    print(data)\n",
    "    break"
   ]
  },
  {
   "cell_type": "code",
   "execution_count": 83,
   "id": "49f2bf5b",
   "metadata": {},
   "outputs": [],
   "source": [
    "from torch import nn\n",
    "import torch\n",
    "\n",
    "from torch.optim import Adam, SGD\n",
    "\n",
    "import numpy as np"
   ]
  },
  {
   "cell_type": "code",
   "execution_count": 7,
   "id": "0fe27f3f",
   "metadata": {},
   "outputs": [],
   "source": [
    "class GAT_Encoder(nn.Module):\n",
    "    def __init__(self, in_dim, dim_h, z_dim):\n",
    "        super(GAT, self).__init__()\n",
    "        self.conv1 = GATConv(in_dim, dim_h)\n",
    "        self.conv2 = GATConv(dim_h, dim_h)\n",
    "        self.conv3 = GATConv(dim_h, dim_h)\n",
    "        self.lin = Linear(dim_h, z_dim*2)\n",
    "\n",
    "    def forward(self, x, edge_index, batch):\n",
    "        # Node embeddings \n",
    "        h = self.conv1(x, edge_index)\n",
    "        h = h.relu()\n",
    "        h = self.conv2(h, edge_index)\n",
    "        h = h.relu()\n",
    "        h = self.conv3(h, edge_index)\n",
    "\n",
    "        # Graph-level readout\n",
    "        hG = global_mean_pool(h, batch)\n",
    "\n",
    "        # Classifier\n",
    "        h = F.dropout(hG, p=0.5, training=self.training)\n",
    "        h = self.lin(h)\n",
    "        \n",
    "        mean = h[0]\n",
    "        log_var = h[1]\n",
    "        \n",
    "        return mean, log_var"
   ]
  },
  {
   "cell_type": "code",
   "execution_count": 28,
   "id": "47459325",
   "metadata": {},
   "outputs": [],
   "source": [
    "class FF_Decoder(nn.Module):\n",
    "    def __init__(self, latent_dim, hidden_dim, output_dim):\n",
    "        super(FF_Decoder, self).__init__()\n",
    "        self.FC_hidden = nn.Linear(latent_dim, hidden_dim)\n",
    "        self.FC_hidden2 = nn.Linear(hidden_dim, hidden_dim)\n",
    "        self.FC_output = nn.Linear(hidden_dim, output_dim)\n",
    "        \n",
    "        self.LeakyReLU = nn.LeakyReLU(0.2)\n",
    "        \n",
    "        \n",
    "    def forward(self, x):\n",
    "        h     = self.LeakyReLU(self.FC_hidden(x))\n",
    "        h     = self.LeakyReLU(self.FC_hidden2(h))\n",
    "        h     = self.LeakyReLU(self.FC_hidden2(h))\n",
    "        \n",
    "        return self.FC_output(h)\n",
    "    \n",
    "    def edge_similarity_matrix(self, adj, adj_recon, matching_features,\n",
    "                matching_features_recon, sim_func):\n",
    "        S = torch.zeros(self.max_num_nodes, self.max_num_nodes,\n",
    "                        self.max_num_nodes, self.max_num_nodes)\n",
    "        for i in range(self.max_num_nodes):\n",
    "            for j in range(self.max_num_nodes):\n",
    "                if i == j:\n",
    "                    for a in range(self.max_num_nodes):\n",
    "                        S[i, i, a, a] = adj[i, i] * adj_recon[a, a] * \\\n",
    "                                        sim_func(matching_features[i], matching_features_recon[a])\n",
    "                        # with feature not implemented\n",
    "                        # if input_features is not None:\n",
    "                else:\n",
    "                    for a in range(self.max_num_nodes):\n",
    "                        for b in range(self.max_num_nodes):\n",
    "                            if b == a:\n",
    "                                continue\n",
    "                            S[i, j, a, b] = adj[i, j] * adj[i, i] * adj[j, j] * \\\n",
    "                                            adj_recon[a, b] * adj_recon[a, a] * adj_recon[b, b]\n",
    "        return S\n",
    "    \n",
    "    def mpm(self, x_init, S, max_iters=50):\n",
    "        x = x_init\n",
    "        for it in range(max_iters):\n",
    "            x_new = torch.zeros(self.max_num_nodes, self.max_num_nodes)\n",
    "            for i in range(self.max_num_nodes):\n",
    "                for a in range(self.max_num_nodes):\n",
    "                    x_new[i, a] = x[i, a] * S[i, i, a, a]\n",
    "                    pooled = [torch.max(x[j, :] * S[i, j, a, :])\n",
    "                              for j in range(self.max_num_nodes) if j != i]\n",
    "                    neigh_sim = sum(pooled)\n",
    "                    x_new[i, a] += neigh_sim\n",
    "            norm = torch.norm(x_new)\n",
    "            x = x_new / norm\n",
    "        return x \n",
    "\n",
    "    def deg_feature_similarity(self, f1, f2):\n",
    "        return 1 / (abs(f1 - f2) + 1)\n",
    "    \n",
    "    def deg_feature_similarity(self, f1, f2):\n",
    "        return 1 / (abs(f1 - f2) + 1)\n",
    "\n",
    "    def permute_adj(self, adj, curr_ind, target_ind):\n",
    "        ''' Permute adjacency matrix.\n",
    "          The target_ind (connectivity) should be permuted to the curr_ind position.\n",
    "        '''\n",
    "        # order curr_ind according to target ind\n",
    "        ind = np.zeros(self.max_num_nodes, dtype=np.int)\n",
    "        ind[target_ind] = curr_ind\n",
    "        adj_permuted = torch.zeros((self.max_num_nodes, self.max_num_nodes))\n",
    "        adj_permuted[:, :] = adj[ind, :]\n",
    "        adj_permuted[:, :] = adj_permuted[:, ind]\n",
    "        return adj_permuted\n"
   ]
  },
  {
   "cell_type": "code",
   "execution_count": 29,
   "id": "3cd95a51",
   "metadata": {},
   "outputs": [],
   "source": [
    "class Model(nn.Module):\n",
    "    def __init__(self, Encoder, Decoder, device):\n",
    "        super(Model, self).__init__()\n",
    "        self.Encoder = Encoder\n",
    "        self.Decoder = Decoder\n",
    "        self.device = device\n",
    "        \n",
    "    def reparameterization(self, mean, var):\n",
    "        epsilon = torch.randn_like(var).to(self.device)        # sampling epsilon        \n",
    "        z = mean + var*epsilon                          # reparameterization trick\n",
    "        return z\n",
    "                \n",
    "    def forward(self, x):\n",
    "        mean, log_var = self.Encoder(x)\n",
    "        z = self.reparameterization(mean, torch.exp(0.5 * log_var)) # takes exponential function (log var -> var)\n",
    "        x_hat = self.Decoder(z)\n",
    "        \n",
    "        return x_hat, mean, log_var"
   ]
  },
  {
   "cell_type": "code",
   "execution_count": null,
   "id": "8d0c0332",
   "metadata": {},
   "outputs": [],
   "source": []
  },
  {
   "cell_type": "code",
   "execution_count": 34,
   "id": "12d559bb",
   "metadata": {},
   "outputs": [],
   "source": [
    "def loss_function(x, x_hat, mean, log_var):\n",
    "    reconstruction_loss = nn.functional.mse_loss(x_hat, x)\n",
    "    \n",
    "    log_var = torch.clamp(log_var, max = 10.0)\n",
    "    \n",
    "    KLD = - 0.5 * torch.sum(1+ log_var - mean.pow(2) - log_var.exp())\n",
    "\n",
    "    return reconstruction_loss + KLD"
   ]
  },
  {
   "cell_type": "code",
   "execution_count": 77,
   "id": "2aaed119",
   "metadata": {},
   "outputs": [],
   "source": [
    "def masked_loss(x_top, x_top_hat, x_res, x_res_hat, mask, mean, log_var):\n",
    "    \n",
    "    ratio = torch.sum(mask)/np.prod(mask.shape)\n",
    "    \n",
    "    r_loss_top = nn.functional.mse_loss(x_top_hat, x_top)\n",
    "    \n",
    "    unmasked = torch.logical_not(mask)\n",
    "    \n",
    "    torch.sum(unmasked)\n",
    "    \n",
    "    r_loss_res_zeroed = (1-ratio) * nn.functional.mse_loss(x_res[mask], x_res_hat[mask])\n",
    "    \n",
    "    \n",
    "    r_loss_res_unmasked = ratio * nn.functional.mse_loss(x_res[unmasked], x_res_hat[unmasked])\n",
    "    \n",
    "    \n",
    "    log_var = torch.clamp(log_var, max = 10.0)\n",
    "    \n",
    "    KLD = - 0.5 * torch.sum(1+ log_var - mean.pow(2) - log_var.exp())\n",
    "\n",
    "    return r_loss_top + r_loss_res_zeroed + r_loss_res_unmasked + 0.5*KLD"
   ]
  },
  {
   "cell_type": "code",
   "execution_count": 84,
   "id": "ae31b71b",
   "metadata": {},
   "outputs": [],
   "source": [
    "batch_size = 100\n",
    "\n",
    "x_dim  = 30 * 32\n",
    "out_dim = \n",
    "hidden_dim = 400\n",
    "latent_dim = 50\n",
    "\n",
    "lr = 1e-3\n",
    "\n",
    "epochs = 80\n",
    "\n",
    "device = torch.device(\"cuda\" if torch.cuda.is_available() else \"cpu\")\n"
   ]
  },
  {
   "cell_type": "code",
   "execution_count": 85,
   "id": "4f5d5285",
   "metadata": {},
   "outputs": [],
   "source": [
    "encoder = FF_Encoder(input_dim=x_dim, hidden_dim=hidden_dim, latent_dim=latent_dim).to(device)\n",
    "decoder = FF_Decoder(latent_dim=latent_dim, hidden_dim = hidden_dim, output_dim = x_dim).to(device)\n",
    "model = Model(Encoder=encoder, Decoder=decoder,device=device)\n",
    "optimizer = SGD(model.parameters(), lr=lr)"
   ]
  },
  {
   "cell_type": "code",
   "execution_count": 86,
   "id": "dc3e575c",
   "metadata": {},
   "outputs": [
    {
     "name": "stdout",
     "output_type": "stream",
     "text": [
      "Epoch: 0 | Training_loss:  0.5683243842422963\n",
      "Epoch: 2 | Training_loss:  0.5143334373831749\n",
      "Epoch: 4 | Training_loss:  0.47280617251992224\n",
      "Epoch: 6 | Training_loss:  0.43581231161952017\n",
      "Epoch: 8 | Training_loss:  0.4067628480494022\n",
      "Epoch: 10 | Training_loss:  0.37769882842898367\n",
      "Epoch: 12 | Training_loss:  0.35705845400691033\n",
      "Epoch: 14 | Training_loss:  0.3410027822107077\n",
      "Epoch: 16 | Training_loss:  0.330998790115118\n",
      "Epoch: 18 | Training_loss:  0.3244883377104998\n",
      "Epoch: 20 | Training_loss:  0.3184059647470713\n",
      "Epoch: 22 | Training_loss:  0.31714238695800306\n",
      "Epoch: 24 | Training_loss:  0.31514354072511197\n",
      "Epoch: 26 | Training_loss:  0.3132229658216238\n",
      "Epoch: 28 | Training_loss:  0.31149616502225397\n",
      "Epoch: 30 | Training_loss:  0.3116489502042532\n",
      "Epoch: 32 | Training_loss:  0.30978533536195757\n",
      "Epoch: 34 | Training_loss:  0.30839042864739896\n",
      "Epoch: 36 | Training_loss:  0.30878170125186444\n",
      "Epoch: 38 | Training_loss:  0.30876363404095175\n",
      "Epoch: 40 | Training_loss:  0.3069447673857212\n",
      "Epoch: 42 | Training_loss:  0.30716328136622906\n",
      "Epoch: 44 | Training_loss:  0.3061728087067604\n",
      "Epoch: 46 | Training_loss:  0.3059140682220459\n",
      "Epoch: 48 | Training_loss:  0.30627408891916275\n",
      "Epoch: 50 | Training_loss:  0.30356137700378893\n",
      "Epoch: 52 | Training_loss:  0.3047607380151749\n",
      "Epoch: 54 | Training_loss:  0.3035311681777239\n",
      "Epoch: 56 | Training_loss:  0.3032740381360054\n",
      "Epoch: 58 | Training_loss:  0.30310536712408065\n",
      "Epoch: 60 | Training_loss:  0.3026748041808605\n",
      "Epoch: 62 | Training_loss:  0.3024977134913206\n",
      "Epoch: 64 | Training_loss:  0.30134627990424634\n",
      "Epoch: 66 | Training_loss:  0.30110593676567077\n",
      "Epoch: 68 | Training_loss:  0.30139596670866015\n",
      "Epoch: 70 | Training_loss:  0.29975921034812925\n",
      "Epoch: 72 | Training_loss:  0.30009946778416635\n",
      "Epoch: 74 | Training_loss:  0.3001256128400564\n",
      "Epoch: 76 | Training_loss:  0.30064003497362135\n",
      "Epoch: 78 | Training_loss:  0.29869690269231797\n"
     ]
    }
   ],
   "source": [
    "for epoch in range(epochs):\n",
    "    running_loss = 0\n",
    "    for idx, data in enumerate(dataloader):\n",
    "        \n",
    "        optimizer.zero_grad()\n",
    "        \n",
    "        # scale the w_in\n",
    "        x = data.y[:,2:].to(device)\n",
    "        x[:2] = (x[:2]+1)/2\n",
    "        \n",
    "        # scale the w_res\n",
    "        #max_val = torch.max(x[2:])\n",
    "        #min_val = torch.min(x[2:])\n",
    "        #\n",
    "        #x[2:] = x[2:]\n",
    "        \n",
    "        x_model = x.flatten()\n",
    "        \n",
    "        \n",
    "        reconstruction, mu, log_var = model(x_model)\n",
    "        \n",
    "        mask = data.sparsity_mask.T.to(device)\n",
    "        \n",
    "        recon_reshaped = reconstruction.reshape(32,30)\n",
    "        \n",
    "        loss = masked_loss(recon_reshaped[:2], x[:2],recon_reshaped[2:],x[2:], mask, mu, log_var)\n",
    "        \n",
    "        running_loss += loss.item()\n",
    "        \n",
    "        loss.backward()\n",
    "        optimizer.step()\n",
    "        \n",
    "    train_loss = running_loss / len(dataloader)\n",
    "\n",
    "    if(epoch % 2 == 0):\n",
    "        print(\"Epoch:\", epoch, \"| Training_loss: \", train_loss )"
   ]
  },
  {
   "cell_type": "code",
   "execution_count": 87,
   "id": "c6a46faf",
   "metadata": {},
   "outputs": [],
   "source": [
    "import seaborn as sns\n",
    "import matplotlib.pyplot as plt"
   ]
  },
  {
   "cell_type": "code",
   "execution_count": 89,
   "id": "5b61c62c",
   "metadata": {},
   "outputs": [
    {
     "data": {
      "image/png": "[encoded data removed]",
      "text/plain": [
       "<Figure size 640x480 with 2 Axes>"
      ]
     },
     "metadata": {},
     "output_type": "display_data"
    },
    {
     "data": {
      "image/png": "[encoded data removed]",
      "text/plain": [
       "<Figure size 640x480 with 2 Axes>"
      ]
     },
     "metadata": {},
     "output_type": "display_data"
    }
   ],
   "source": [
    "with torch.no_grad():\n",
    "    for idx, data in enumerate(dataloader):\n",
    "\n",
    "        optimizer.zero_grad()\n",
    "\n",
    "        x = data.y[:,2:].to(device)\n",
    "        x[:2] = (x[:2]+1)/2\n",
    "        \n",
    "        # scale the w_res\n",
    "        #max_val = torch.max(x[2:])\n",
    "        #min_val = torch.min(x[2:])\n",
    "        #\n",
    "        #x[2:] = x[2:]\n",
    "        \n",
    "        x_model = x.flatten()\n",
    "        \n",
    "        reconstruction, mu, log_var = model(x_model)\n",
    "        \n",
    "        arr = reconstruction.cpu().reshape(32,30)\n",
    "        arr[:2] = arr[:2]*2 - 1\n",
    "        sns.heatmap(arr,cmap='seismic',center=0)\n",
    "        plt.show()\n",
    "        sns.heatmap(data.y,cmap='seismic',center=0)\n",
    "        plt.show()\n",
    "        break"
   ]
  },
  {
   "cell_type": "code",
   "execution_count": 90,
   "id": "17f1d280",
   "metadata": {},
   "outputs": [
    {
     "data": {
      "text/plain": [
       "array([-2.7       , -2.64545455, -2.59090909, -2.53636364, -2.48181818,\n",
       "       -2.42727273, -2.37272727, -2.31818182, -2.26363636, -2.20909091,\n",
       "       -2.15454545, -2.1       , -2.04545455, -1.99090909, -1.93636364,\n",
       "       -1.88181818, -1.82727273, -1.77272727, -1.71818182, -1.66363636,\n",
       "       -1.60909091, -1.55454545, -1.5       , -1.44545455, -1.39090909,\n",
       "       -1.33636364, -1.28181818, -1.22727273, -1.17272727, -1.11818182,\n",
       "       -1.06363636, -1.00909091, -0.95454545, -0.9       , -0.84545455,\n",
       "       -0.79090909, -0.73636364, -0.68181818, -0.62727273, -0.57272727,\n",
       "       -0.51818182, -0.46363636, -0.40909091, -0.35454545, -0.3       ,\n",
       "       -0.24545455, -0.19090909, -0.13636364, -0.08181818, -0.02727273,\n",
       "        0.02727273,  0.08181818,  0.13636364,  0.19090909,  0.24545455,\n",
       "        0.3       ,  0.35454545,  0.40909091,  0.46363636,  0.51818182,\n",
       "        0.57272727,  0.62727273,  0.68181818,  0.73636364,  0.79090909,\n",
       "        0.84545455,  0.9       ,  0.95454545,  1.00909091,  1.06363636,\n",
       "        1.11818182,  1.17272727,  1.22727273,  1.28181818,  1.33636364,\n",
       "        1.39090909,  1.44545455,  1.5       ,  1.55454545,  1.60909091,\n",
       "        1.66363636,  1.71818182,  1.77272727,  1.82727273,  1.88181818,\n",
       "        1.93636364,  1.99090909,  2.04545455,  2.1       ,  2.15454545,\n",
       "        2.20909091,  2.26363636,  2.31818182,  2.37272727,  2.42727273,\n",
       "        2.48181818,  2.53636364,  2.59090909,  2.64545455,  2.7       ])"
      ]
     },
     "execution_count": 90,
     "metadata": {},
     "output_type": "execute_result"
    }
   ],
   "source": [
    "np.linspace(-2.7,2.7,100)"
   ]
  },
  {
   "cell_type": "code",
   "execution_count": null,
   "id": "070deefd",
   "metadata": {},
   "outputs": [],
   "source": []
  }
 ],
 "metadata": {
  "kernelspec": {
   "display_name": "thesis",
   "language": "python",
   "name": "thesis"
  },
  "language_info": {
   "codemirror_mode": {
    "name": "ipython",
    "version": 3
   },
   "file_extension": ".py",
   "mimetype": "text/x-python",
   "name": "python",
   "nbconvert_exporter": "python",
   "pygments_lexer": "ipython3",
   "version": "3.10.12"
  }
 },
 "nbformat": 4,
 "nbformat_minor": 5
}
